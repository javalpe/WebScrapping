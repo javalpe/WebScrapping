{
  "nbformat": 4,
  "nbformat_minor": 0,
  "metadata": {
    "colab": {
      "name": "WebScraping.ipynb",
      "provenance": [],
      "collapsed_sections": []
    },
    "kernelspec": {
      "name": "python3",
      "display_name": "Python 3"
    }
  },
  "cells": [
    {
      "cell_type": "markdown",
      "metadata": {
        "id": "fhX74Tgvb0EE"
      },
      "source": [
        "# Teoría\n",
        "\n",
        "## ¿Qué es Web Scraping?\n",
        "\n",
        "Web Scraping es una técnica en la cuál un programa de computadora **extrae datos** desde un sitio web. Dichos programas son llamados **Bots** o **Web crawlers**. Escencialmente se busca copiar datos de una web en una **base de datos** o una **hoja de cálculo**, para posteriormente visualizarlos o analizarlos.\n",
        "\n",
        "## ¿Por qué y cuándo aplicaríamos Web Scraping?\n",
        "\n",
        "- El principal motivo para utilizar Web Scraping es la necesidad de acceder a contenido **público** de la web, al cual no podemos acceder mediante una **API** (Application Programming Interface). \n",
        "\n",
        "- Podemos aplicar Web Scraping cuando la página nos lo permita, para verificar el permiso podemos ver el archivo robots.txt de la página objetivo.\n",
        "\n",
        "## Precauciones a tener en cuenta 🤗🤝\n",
        "\n",
        "- Debemos hacernos una idea de la capacidad de la web en la que vamos a realizar Web Scraping para tratar de no **desbordar sus servidores**. \n",
        "\n",
        "- Tambien es necesario que verifiquemos si hay algun dato sensible que debamos reportar/tratar de manera especial. \n",
        "\n",
        "## Recursos adicionales\n",
        "\n",
        "- [Apify](https://apify.com/)\n",
        "- [Datos Abiertos Gobierno Peruano](https://www.datosabiertos.gob.pe//)\n",
        "- [Conjuntos de datos humanitarios](https://competent-hopper-e1121e.netlify.app/)\n"
      ]
    },
    {
      "cell_type": "markdown",
      "metadata": {
        "id": "SZqmIEysj6uo"
      },
      "source": [
        "# Live Coding - Caso 1: Wikipedia <img src=\"https://img.icons8.com/color/96/000000/wikipedia-logo.png\"/>"
      ]
    },
    {
      "cell_type": "markdown",
      "metadata": {
        "id": "Cu44QlBOtXdB"
      },
      "source": [
        "## 1. Identificación de datos\n",
        "\n",
        "**Objetivo**: Quiero analizar la selección de Fútbol de Perú\n",
        "\n",
        "¡Ajá, puedo obtener datos de las tablas de Wikipedia! Para este ejemplo veamos la sección \"Últimos Convocados\"."
      ]
    },
    {
      "cell_type": "code",
      "metadata": {
        "id": "3w2i2NxOvyyC"
      },
      "source": [
        "# Importamos las librerias\n",
        "import bs4 as bs\n",
        "import requests\n",
        "import pandas as pd\n",
        "from google.colab import files\n",
        "\n",
        "# Definamos la URL\n",
        "URL = \"https://es.wikipedia.org/wiki/Selecci%C3%B3n_de_f%C3%BAtbol_del_Per%C3%BA\"\n",
        "\n",
        "# Extraemos el codigo fuente (HTML)\n",
        "source = requests.get(URL).text\n",
        "soup = bs.BeautifulSoup(source,'lxml')"
      ],
      "execution_count": 1,
      "outputs": []
    },
    {
      "cell_type": "markdown",
      "metadata": {
        "id": "8DqAjsDJtmUN"
      },
      "source": [
        "## 2. Recopilando la información necesaria"
      ]
    },
    {
      "cell_type": "code",
      "metadata": {
        "id": "YIeiG_unO0OT",
        "outputId": "effa4407-09c7-4e13-862c-85added6728d",
        "colab": {
          "base_uri": "https://localhost:8080/",
          "height": 51
        }
      },
      "source": [
        "# title of the page\n",
        "print(soup.title, end='\\n\\n')"
      ],
      "execution_count": 2,
      "outputs": [
        {
          "output_type": "stream",
          "text": [
            "<title>Selección de fútbol del Perú - Wikipedia, la enciclopedia libre</title>\n",
            "\n"
          ],
          "name": "stdout"
        }
      ]
    },
    {
      "cell_type": "code",
      "metadata": {
        "id": "xhTeFgxjO6B3",
        "outputId": "b2e01040-d8a4-4c40-c3b1-b727955ff415",
        "colab": {
          "base_uri": "https://localhost:8080/",
          "height": 51
        }
      },
      "source": [
        "# get attributes:\n",
        "print(soup.title.name, end='\\n\\n')"
      ],
      "execution_count": 3,
      "outputs": [
        {
          "output_type": "stream",
          "text": [
            "title\n",
            "\n"
          ],
          "name": "stdout"
        }
      ]
    },
    {
      "cell_type": "code",
      "metadata": {
        "id": "3oBy6SeiO9gl",
        "outputId": "c35d1063-5a07-4064-89fa-03b0fe38b7b6",
        "colab": {
          "base_uri": "https://localhost:8080/",
          "height": 51
        }
      },
      "source": [
        "# get values:\n",
        "print(soup.title.string, end='\\n\\n')"
      ],
      "execution_count": 4,
      "outputs": [
        {
          "output_type": "stream",
          "text": [
            "Selección de fútbol del Perú - Wikipedia, la enciclopedia libre\n",
            "\n"
          ],
          "name": "stdout"
        }
      ]
    },
    {
      "cell_type": "code",
      "metadata": {
        "id": "l5lxfZ46O_oT",
        "outputId": "adf60f78-f249-4040-c668-f3ee8661f8a9",
        "colab": {
          "base_uri": "https://localhost:8080/",
          "height": 51
        }
      },
      "source": [
        "# beginning navigation:\n",
        "print(soup.title.parent.name, end='\\n\\n')"
      ],
      "execution_count": 5,
      "outputs": [
        {
          "output_type": "stream",
          "text": [
            "head\n",
            "\n"
          ],
          "name": "stdout"
        }
      ]
    },
    {
      "cell_type": "code",
      "metadata": {
        "id": "XC6-guW3yiK0",
        "outputId": "2657ba1f-220e-490a-8ab0-a2e84322a905",
        "colab": {
          "base_uri": "https://localhost:8080/",
          "height": 88
        }
      },
      "source": [
        "# getting specific values:\n",
        "print(soup.p, end='\\n\\n')"
      ],
      "execution_count": 6,
      "outputs": [
        {
          "output_type": "stream",
          "text": [
            "<p>La <b>selección de fútbol del <a href=\"/wiki/Per%C3%BA\" title=\"Perú\">Perú</a></b> es el equipo representativo de dicho país en las competiciones oficiales de <a href=\"/wiki/F%C3%BAtbol\" title=\"Fútbol\">fútbol</a> <a href=\"/wiki/Var%C3%B3n\" title=\"Varón\">masculino</a>. Su organización está a cargo de la <a href=\"/wiki/Federaci%C3%B3n_Peruana_de_F%C3%BAtbol\" title=\"Federación Peruana de Fútbol\">Federación Peruana de Fútbol</a> (FPF), la cual es una de las diez federaciones miembro de la <a href=\"/wiki/Confederaci%C3%B3n_Sudamericana_de_F%C3%BAtbol\" title=\"Confederación Sudamericana de Fútbol\">Confederación Sudamericana de Fútbol (Conmebol)</a>. Su debut se produjo el <a href=\"/wiki/1_de_noviembre\" title=\"1 de noviembre\">1 de noviembre</a> de <a href=\"/wiki/1927\" title=\"1927\">1927</a> ante la selección de <a href=\"/wiki/Selecci%C3%B3n_de_f%C3%BAtbol_de_Uruguay\" title=\"Selección de fútbol de Uruguay\">Uruguay</a> en el <a href=\"/wiki/Campeonato_Sudamericano_1927\" title=\"Campeonato Sudamericano 1927\">Campeonato Sudamericano</a> de aquel año. La selección peruana juega la gran mayoría de sus partidos de local en el <a href=\"/wiki/Estadio_Nacional_del_Per%C3%BA\" title=\"Estadio Nacional del Perú\">Estadio Nacional del Perú</a>, ubicado en la capital, <a href=\"/wiki/Lima\" title=\"Lima\">Lima</a>. \n",
            "</p>\n",
            "\n"
          ],
          "name": "stdout"
        }
      ]
    },
    {
      "cell_type": "markdown",
      "metadata": {
        "id": "tk8whlbJtnSi"
      },
      "source": [
        "\n",
        "## 3. Disenando el Web Scraper\n",
        "\n",
        "1. Identifiquemos la tabla objetivo: \"Ultimos Convocados\"\n",
        "2. Seleccionar la tabla objetivo - Tag name, XPath u otro\n",
        "3. Extraer nombres de columnas - Sólo **1** vez\n",
        "4. Extraer datos de cada fila - Iterar sobre las filas\n",
        "5. Guardar archivo en formato CSV (Comma Separated Values)\n"
      ]
    },
    {
      "cell_type": "markdown",
      "metadata": {
        "id": "RIFp8FRotoDM"
      },
      "source": [
        "## 4. Implementación del Web Scraper\n"
      ]
    },
    {
      "cell_type": "code",
      "metadata": {
        "id": "t-KWWvlK2Xpb"
      },
      "source": [
        "tables = soup.find_all('table')"
      ],
      "execution_count": 7,
      "outputs": []
    },
    {
      "cell_type": "code",
      "metadata": {
        "id": "TVNCkyWAV96Z",
        "outputId": "be4289a2-193e-45a4-a8a8-c2083885a53e",
        "colab": {
          "base_uri": "https://localhost:8080/",
          "height": 34
        }
      },
      "source": [
        "type(tables)"
      ],
      "execution_count": 8,
      "outputs": [
        {
          "output_type": "execute_result",
          "data": {
            "text/plain": [
              "bs4.element.ResultSet"
            ]
          },
          "metadata": {
            "tags": []
          },
          "execution_count": 8
        }
      ]
    },
    {
      "cell_type": "code",
      "metadata": {
        "id": "9f68YHUT2cR2",
        "outputId": "e980fed7-e999-41f9-b4fe-ef6a312f9352",
        "colab": {
          "base_uri": "https://localhost:8080/",
          "height": 34
        }
      },
      "source": [
        "len(tables)"
      ],
      "execution_count": 9,
      "outputs": [
        {
          "output_type": "execute_result",
          "data": {
            "text/plain": [
              "26"
            ]
          },
          "metadata": {
            "tags": []
          },
          "execution_count": 9
        }
      ]
    },
    {
      "cell_type": "markdown",
      "metadata": {
        "id": "QAfaljPyRcTQ"
      },
      "source": [
        "- **find_all('tr')**: para identificar solo las filas con contenido"
      ]
    },
    {
      "cell_type": "code",
      "metadata": {
        "id": "Rf8MbZ4I2svR"
      },
      "source": [
        "table_rows = tables[12].find_all('tr')"
      ],
      "execution_count": 10,
      "outputs": []
    },
    {
      "cell_type": "code",
      "metadata": {
        "id": "yTkOwyGt21a6",
        "outputId": "f8315164-0885-49c1-94e1-79d3eebf17ca",
        "colab": {
          "base_uri": "https://localhost:8080/",
          "height": 34
        }
      },
      "source": [
        "len(table_rows)"
      ],
      "execution_count": 11,
      "outputs": [
        {
          "output_type": "execute_result",
          "data": {
            "text/plain": [
              "32"
            ]
          },
          "metadata": {
            "tags": []
          },
          "execution_count": 11
        }
      ]
    },
    {
      "cell_type": "markdown",
      "metadata": {
        "id": "ZoOMwJnWRvSY"
      },
      "source": [
        "- **find_all('th')**: para identificar solo los nombres de las columnas"
      ]
    },
    {
      "cell_type": "code",
      "metadata": {
        "id": "jScvXe4P3Oeu",
        "outputId": "b53d15fd-8ba1-4e25-839e-3dfb2f412e6c",
        "colab": {
          "base_uri": "https://localhost:8080/",
          "height": 34
        }
      },
      "source": [
        "column_names = [th.text.strip('\\n') for th in table_rows[0].find_all('th')] #con strip dividimos el objeto en unidades\n",
        "column_names"
      ],
      "execution_count": 12,
      "outputs": [
        {
          "output_type": "execute_result",
          "data": {
            "text/plain": [
              "['', 'Nombre', 'Pos.', 'Edad', 'PJ', 'Goles', 'Equipo', 'Formativo']"
            ]
          },
          "metadata": {
            "tags": []
          },
          "execution_count": 12
        }
      ]
    },
    {
      "cell_type": "code",
      "metadata": {
        "id": "7H4-O-3s5-A5",
        "outputId": "984af4a5-c76d-4de9-8cb7-8db5dff62b4b",
        "colab": {
          "base_uri": "https://localhost:8080/",
          "height": 34
        }
      },
      "source": [
        "column_names[0] = 'Num.' #Reenplazamos el vacío por Num\n",
        "column_names"
      ],
      "execution_count": 13,
      "outputs": [
        {
          "output_type": "execute_result",
          "data": {
            "text/plain": [
              "['Num.', 'Nombre', 'Pos.', 'Edad', 'PJ', 'Goles', 'Equipo', 'Formativo']"
            ]
          },
          "metadata": {
            "tags": []
          },
          "execution_count": 13
        }
      ]
    },
    {
      "cell_type": "markdown",
      "metadata": {
        "id": "ALAHybvyajtD"
      },
      "source": [
        " - Generamos una **función** para ejecutar el WebScraper y guardar el resultado en **data**"
      ]
    },
    {
      "cell_type": "code",
      "metadata": {
        "id": "n1zrG3Ds3_by",
        "outputId": "c6def1b5-cf52-4e55-885d-3249c1ddb622",
        "colab": {
          "base_uri": "https://localhost:8080/",
          "height": 1000
        }
      },
      "source": [
        "# Extraer datos de la tabla\n",
        "data = []\n",
        "\n",
        "# Iterar sobre cada fila\n",
        "for tr in table_rows[1:-1]:\n",
        "  row_data = []\n",
        "\n",
        "  # Valor especial numero de camiseta\n",
        "  num = tr.find('th').text.strip('\\n')\n",
        "  row_data.append(num)\n",
        "\n",
        "  # Extraer los demas valores de la fila\n",
        "  for td in tr.find_all('td'):\n",
        "    value = td.text.strip('\\n')\n",
        "\n",
        "    # Valor especial de posicion de la cancha (img (href) dentro de un enlace (a))\n",
        "    if value == '':\n",
        "      value = td.find('a')['href']\n",
        "\n",
        "    row_data.append(value)\n",
        "\n",
        "  # Almacenar los datos de la fila\n",
        "  print(row_data, end='\\n\\n')\n",
        "  data.append(row_data)"
      ],
      "execution_count": 14,
      "outputs": [
        {
          "output_type": "stream",
          "text": [
            "['1', 'Pedro Gallese', '/wiki/Archivo:FootballPositionGK_es.png', '30\\xa0años', '62', '-64', ' Orlando City S.C.', ' U. San Martín']\n",
            "\n",
            "['12', 'José Carvallo', '/wiki/Archivo:FootballPositionGK_es.png', '34\\xa0años', '7', '-4', ' Universitario', ' Universitario']\n",
            "\n",
            "['21', 'Carlos Cáceda', '/wiki/Archivo:FootballPositionGK_es.png', '28\\xa0años', '6', '-3', ' F.B.C. Melgar', ' Universitario']\n",
            "\n",
            "['2', 'Luis Abram', '/wiki/Archivo:FootballPositionCT_es.png', '24\\xa0años', '20', '1', ' Vélez Sarfield', ' Regatas']\n",
            "\n",
            "['3', 'Aldo Corzo', '/wiki/Archivo:FootballPositionCT_es.png', '31\\xa0años', '31', '0', ' Universitario', ' Regatas']\n",
            "\n",
            "['4', 'Anderson Santamaría', '/wiki/Archivo:FootballPositionCT_es.png', '28\\xa0años', '17', '0', ' Atlas F.C.', ' Deportivo Municipal']\n",
            "\n",
            "['5', 'Christian Ramos', '/wiki/Archivo:FootballPositionCT_es.png', '31\\xa0años', '74', '3', ' U. César Vallejo', ' Sporting Cristal']\n",
            "\n",
            "['6', 'Miguel Trauco', '/wiki/Archivo:FootballPositionCT_es.png', '27 años', '50', '0', ' A.S. Saint-Étienne', ' Virgen de Chapi']\n",
            "\n",
            "['15', 'Carlos Zambrano', '/wiki/Archivo:FootballPositionCT_es.png', '31\\xa0años', '50', '4', ' Boca Juniors', ' FC Schalke 04']\n",
            "\n",
            "['17', 'Luis Advíncula', '/wiki/Archivo:FootballPositionCT_es.png', '29 años', '89', '1', ' Rayo Vallecano', ' Esther Grande']\n",
            "\n",
            "['22', 'Alexander Callens', '/wiki/Archivo:FootballPositionCT_es.png', '28\\xa0años', '13', '1', ' New York City F.C.', ' Sport Boys']\n",
            "\n",
            "['-', 'Miguel Araujo', '/wiki/Archivo:FootballPositionCT_es.png', '26\\xa0años', '17', '0', ' FC Emmen', ' Deportivo Cobresol']\n",
            "\n",
            "['-', 'Nilson Loyola', '/wiki/Archivo:FootballPositionCT_es.png', '25\\xa0años', '6', '0', ' Sporting Cristal', ' Sporting Cristal']\n",
            "\n",
            "['-', 'Marcos López', '/wiki/Archivo:FootballPositionCT_es.png', '20\\xa0años', '2', '0', ' San Jose Earthquakes', ' U. San Martín']\n",
            "\n",
            "['8', 'Christian Cueva', '/wiki/Archivo:FootballPositionMID_es.png', '28\\xa0años', '62', '10', ' Yeni Malatyaspor', ' U. de San Martín']\n",
            "\n",
            "['13', 'Renato Tapia', '/wiki/Archivo:FootballPositionMID_es.png', '25\\xa0años', '53', '3', ' Celta de Vigo', ' Esther Grande']\n",
            "\n",
            "['16', 'Christofer Gonzales', '/wiki/Archivo:FootballPositionMID_es.png', '27 años', '22', '2', ' Sporting Cristal', ' Universitario']\n",
            "\n",
            "['19', 'Yoshimar Yotún', '/wiki/Archivo:FootballPositionMID_es.png', '30\\xa0años', '91', '3', ' Cruz Azul', ' Academia Cantolao']\n",
            "\n",
            "['23', 'Pedro Aquino', '/wiki/Archivo:FootballPositionMID_es.png', '25\\xa0años', '20', '3', ' Club León', ' Sporting Cristal']\n",
            "\n",
            "['-', 'Sergio Peña', '/wiki/Archivo:FootballPositionMID_es.png', '24\\xa0años', '6', '0', ' F.C. Emmen', ' Alianza Lima']\n",
            "\n",
            "['-', 'Wilder Cartagena', '/wiki/Archivo:FootballPositionMID_es.png', '26\\xa0años', '4', '0', ' Godoy Cruz', ' Alianza Lima']\n",
            "\n",
            "['-', 'Raziel García', '/wiki/Archivo:FootballPositionMID_es.png', '26 años', '0', '0', ' U. César Vallejo', ' U. de San Martín']\n",
            "\n",
            "['-', 'David Dioses', '/wiki/Archivo:FootballPositionMID_es.png', '24 años', '0', '0', ' Deportivo Municipal', ' Unión Comercio']\n",
            "\n",
            "['10', 'Jefferson Farfán', '/wiki/Archivo:FootballPositionFWD_es.png', '35\\xa0años', '95', '27', ' Agente Libre', ' Alianza Lima']\n",
            "\n",
            "['11', 'Raúl Ruidíaz', '/wiki/Archivo:FootballPositionFWD_es.png', '30\\xa0años', '42', '4', ' Seattle Sounders', ' Universitario']\n",
            "\n",
            "['14', 'Andy Polo', '/wiki/Archivo:FootballPositionFWD_es.png', '25\\xa0años', '19', '1', ' Portland Timbers', ' Universitario']\n",
            "\n",
            "['18', 'Andre Carrillo', '/wiki/Archivo:FootballPositionFWD_es.png', '29\\xa0años', '55', '6', ' Al-Hilal', ' Alianza Lima']\n",
            "\n",
            "['20', 'Edison Flores', '/wiki/Archivo:FootballPositionFWD_es.png', '26\\xa0años', '51', '13', ' D.C. United', ' Universitario']\n",
            "\n",
            "['-', 'Yordy Reyna', '/wiki/Archivo:FootballPositionFWD_es.png', '27\\xa0años', '28', '2', ' D.C. United', ' Alianza Lima']\n",
            "\n",
            "['-', 'Aldair Rodríguez', '/wiki/Archivo:FootballPositionFWD_es.png', '26\\xa0años', '0', '0', ' América de Cali', ' Sport Boys']\n",
            "\n"
          ],
          "name": "stdout"
        }
      ]
    },
    {
      "cell_type": "markdown",
      "metadata": {
        "id": "f9SmNf7razRx"
      },
      "source": [
        "- Generamos una **tabla** usando **pd.Dataframe** y guardamos el resultado en **convocados_peru_df**"
      ]
    },
    {
      "cell_type": "code",
      "metadata": {
        "id": "1HCjenQ_5zW1",
        "outputId": "0191f884-0242-4f9e-c90d-a196096c4bf7",
        "colab": {
          "base_uri": "https://localhost:8080/",
          "height": 979
        }
      },
      "source": [
        "# Creamos un DataFrame / Tabla de datos\n",
        "convocados_peru_df = pd.DataFrame(data, columns=column_names)\n",
        "convocados_peru_df"
      ],
      "execution_count": 15,
      "outputs": [
        {
          "output_type": "execute_result",
          "data": {
            "text/html": [
              "<div>\n",
              "<style scoped>\n",
              "    .dataframe tbody tr th:only-of-type {\n",
              "        vertical-align: middle;\n",
              "    }\n",
              "\n",
              "    .dataframe tbody tr th {\n",
              "        vertical-align: top;\n",
              "    }\n",
              "\n",
              "    .dataframe thead th {\n",
              "        text-align: right;\n",
              "    }\n",
              "</style>\n",
              "<table border=\"1\" class=\"dataframe\">\n",
              "  <thead>\n",
              "    <tr style=\"text-align: right;\">\n",
              "      <th></th>\n",
              "      <th>Num.</th>\n",
              "      <th>Nombre</th>\n",
              "      <th>Pos.</th>\n",
              "      <th>Edad</th>\n",
              "      <th>PJ</th>\n",
              "      <th>Goles</th>\n",
              "      <th>Equipo</th>\n",
              "      <th>Formativo</th>\n",
              "    </tr>\n",
              "  </thead>\n",
              "  <tbody>\n",
              "    <tr>\n",
              "      <th>0</th>\n",
              "      <td>1</td>\n",
              "      <td>Pedro Gallese</td>\n",
              "      <td>/wiki/Archivo:FootballPositionGK_es.png</td>\n",
              "      <td>30 años</td>\n",
              "      <td>62</td>\n",
              "      <td>-64</td>\n",
              "      <td>Orlando City S.C.</td>\n",
              "      <td>U. San Martín</td>\n",
              "    </tr>\n",
              "    <tr>\n",
              "      <th>1</th>\n",
              "      <td>12</td>\n",
              "      <td>José Carvallo</td>\n",
              "      <td>/wiki/Archivo:FootballPositionGK_es.png</td>\n",
              "      <td>34 años</td>\n",
              "      <td>7</td>\n",
              "      <td>-4</td>\n",
              "      <td>Universitario</td>\n",
              "      <td>Universitario</td>\n",
              "    </tr>\n",
              "    <tr>\n",
              "      <th>2</th>\n",
              "      <td>21</td>\n",
              "      <td>Carlos Cáceda</td>\n",
              "      <td>/wiki/Archivo:FootballPositionGK_es.png</td>\n",
              "      <td>28 años</td>\n",
              "      <td>6</td>\n",
              "      <td>-3</td>\n",
              "      <td>F.B.C. Melgar</td>\n",
              "      <td>Universitario</td>\n",
              "    </tr>\n",
              "    <tr>\n",
              "      <th>3</th>\n",
              "      <td>2</td>\n",
              "      <td>Luis Abram</td>\n",
              "      <td>/wiki/Archivo:FootballPositionCT_es.png</td>\n",
              "      <td>24 años</td>\n",
              "      <td>20</td>\n",
              "      <td>1</td>\n",
              "      <td>Vélez Sarfield</td>\n",
              "      <td>Regatas</td>\n",
              "    </tr>\n",
              "    <tr>\n",
              "      <th>4</th>\n",
              "      <td>3</td>\n",
              "      <td>Aldo Corzo</td>\n",
              "      <td>/wiki/Archivo:FootballPositionCT_es.png</td>\n",
              "      <td>31 años</td>\n",
              "      <td>31</td>\n",
              "      <td>0</td>\n",
              "      <td>Universitario</td>\n",
              "      <td>Regatas</td>\n",
              "    </tr>\n",
              "    <tr>\n",
              "      <th>5</th>\n",
              "      <td>4</td>\n",
              "      <td>Anderson Santamaría</td>\n",
              "      <td>/wiki/Archivo:FootballPositionCT_es.png</td>\n",
              "      <td>28 años</td>\n",
              "      <td>17</td>\n",
              "      <td>0</td>\n",
              "      <td>Atlas F.C.</td>\n",
              "      <td>Deportivo Municipal</td>\n",
              "    </tr>\n",
              "    <tr>\n",
              "      <th>6</th>\n",
              "      <td>5</td>\n",
              "      <td>Christian Ramos</td>\n",
              "      <td>/wiki/Archivo:FootballPositionCT_es.png</td>\n",
              "      <td>31 años</td>\n",
              "      <td>74</td>\n",
              "      <td>3</td>\n",
              "      <td>U. César Vallejo</td>\n",
              "      <td>Sporting Cristal</td>\n",
              "    </tr>\n",
              "    <tr>\n",
              "      <th>7</th>\n",
              "      <td>6</td>\n",
              "      <td>Miguel Trauco</td>\n",
              "      <td>/wiki/Archivo:FootballPositionCT_es.png</td>\n",
              "      <td>27 años</td>\n",
              "      <td>50</td>\n",
              "      <td>0</td>\n",
              "      <td>A.S. Saint-Étienne</td>\n",
              "      <td>Virgen de Chapi</td>\n",
              "    </tr>\n",
              "    <tr>\n",
              "      <th>8</th>\n",
              "      <td>15</td>\n",
              "      <td>Carlos Zambrano</td>\n",
              "      <td>/wiki/Archivo:FootballPositionCT_es.png</td>\n",
              "      <td>31 años</td>\n",
              "      <td>50</td>\n",
              "      <td>4</td>\n",
              "      <td>Boca Juniors</td>\n",
              "      <td>FC Schalke 04</td>\n",
              "    </tr>\n",
              "    <tr>\n",
              "      <th>9</th>\n",
              "      <td>17</td>\n",
              "      <td>Luis Advíncula</td>\n",
              "      <td>/wiki/Archivo:FootballPositionCT_es.png</td>\n",
              "      <td>29 años</td>\n",
              "      <td>89</td>\n",
              "      <td>1</td>\n",
              "      <td>Rayo Vallecano</td>\n",
              "      <td>Esther Grande</td>\n",
              "    </tr>\n",
              "    <tr>\n",
              "      <th>10</th>\n",
              "      <td>22</td>\n",
              "      <td>Alexander Callens</td>\n",
              "      <td>/wiki/Archivo:FootballPositionCT_es.png</td>\n",
              "      <td>28 años</td>\n",
              "      <td>13</td>\n",
              "      <td>1</td>\n",
              "      <td>New York City F.C.</td>\n",
              "      <td>Sport Boys</td>\n",
              "    </tr>\n",
              "    <tr>\n",
              "      <th>11</th>\n",
              "      <td>-</td>\n",
              "      <td>Miguel Araujo</td>\n",
              "      <td>/wiki/Archivo:FootballPositionCT_es.png</td>\n",
              "      <td>26 años</td>\n",
              "      <td>17</td>\n",
              "      <td>0</td>\n",
              "      <td>FC Emmen</td>\n",
              "      <td>Deportivo Cobresol</td>\n",
              "    </tr>\n",
              "    <tr>\n",
              "      <th>12</th>\n",
              "      <td>-</td>\n",
              "      <td>Nilson Loyola</td>\n",
              "      <td>/wiki/Archivo:FootballPositionCT_es.png</td>\n",
              "      <td>25 años</td>\n",
              "      <td>6</td>\n",
              "      <td>0</td>\n",
              "      <td>Sporting Cristal</td>\n",
              "      <td>Sporting Cristal</td>\n",
              "    </tr>\n",
              "    <tr>\n",
              "      <th>13</th>\n",
              "      <td>-</td>\n",
              "      <td>Marcos López</td>\n",
              "      <td>/wiki/Archivo:FootballPositionCT_es.png</td>\n",
              "      <td>20 años</td>\n",
              "      <td>2</td>\n",
              "      <td>0</td>\n",
              "      <td>San Jose Earthquakes</td>\n",
              "      <td>U. San Martín</td>\n",
              "    </tr>\n",
              "    <tr>\n",
              "      <th>14</th>\n",
              "      <td>8</td>\n",
              "      <td>Christian Cueva</td>\n",
              "      <td>/wiki/Archivo:FootballPositionMID_es.png</td>\n",
              "      <td>28 años</td>\n",
              "      <td>62</td>\n",
              "      <td>10</td>\n",
              "      <td>Yeni Malatyaspor</td>\n",
              "      <td>U. de San Martín</td>\n",
              "    </tr>\n",
              "    <tr>\n",
              "      <th>15</th>\n",
              "      <td>13</td>\n",
              "      <td>Renato Tapia</td>\n",
              "      <td>/wiki/Archivo:FootballPositionMID_es.png</td>\n",
              "      <td>25 años</td>\n",
              "      <td>53</td>\n",
              "      <td>3</td>\n",
              "      <td>Celta de Vigo</td>\n",
              "      <td>Esther Grande</td>\n",
              "    </tr>\n",
              "    <tr>\n",
              "      <th>16</th>\n",
              "      <td>16</td>\n",
              "      <td>Christofer Gonzales</td>\n",
              "      <td>/wiki/Archivo:FootballPositionMID_es.png</td>\n",
              "      <td>27 años</td>\n",
              "      <td>22</td>\n",
              "      <td>2</td>\n",
              "      <td>Sporting Cristal</td>\n",
              "      <td>Universitario</td>\n",
              "    </tr>\n",
              "    <tr>\n",
              "      <th>17</th>\n",
              "      <td>19</td>\n",
              "      <td>Yoshimar Yotún</td>\n",
              "      <td>/wiki/Archivo:FootballPositionMID_es.png</td>\n",
              "      <td>30 años</td>\n",
              "      <td>91</td>\n",
              "      <td>3</td>\n",
              "      <td>Cruz Azul</td>\n",
              "      <td>Academia Cantolao</td>\n",
              "    </tr>\n",
              "    <tr>\n",
              "      <th>18</th>\n",
              "      <td>23</td>\n",
              "      <td>Pedro Aquino</td>\n",
              "      <td>/wiki/Archivo:FootballPositionMID_es.png</td>\n",
              "      <td>25 años</td>\n",
              "      <td>20</td>\n",
              "      <td>3</td>\n",
              "      <td>Club León</td>\n",
              "      <td>Sporting Cristal</td>\n",
              "    </tr>\n",
              "    <tr>\n",
              "      <th>19</th>\n",
              "      <td>-</td>\n",
              "      <td>Sergio Peña</td>\n",
              "      <td>/wiki/Archivo:FootballPositionMID_es.png</td>\n",
              "      <td>24 años</td>\n",
              "      <td>6</td>\n",
              "      <td>0</td>\n",
              "      <td>F.C. Emmen</td>\n",
              "      <td>Alianza Lima</td>\n",
              "    </tr>\n",
              "    <tr>\n",
              "      <th>20</th>\n",
              "      <td>-</td>\n",
              "      <td>Wilder Cartagena</td>\n",
              "      <td>/wiki/Archivo:FootballPositionMID_es.png</td>\n",
              "      <td>26 años</td>\n",
              "      <td>4</td>\n",
              "      <td>0</td>\n",
              "      <td>Godoy Cruz</td>\n",
              "      <td>Alianza Lima</td>\n",
              "    </tr>\n",
              "    <tr>\n",
              "      <th>21</th>\n",
              "      <td>-</td>\n",
              "      <td>Raziel García</td>\n",
              "      <td>/wiki/Archivo:FootballPositionMID_es.png</td>\n",
              "      <td>26 años</td>\n",
              "      <td>0</td>\n",
              "      <td>0</td>\n",
              "      <td>U. César Vallejo</td>\n",
              "      <td>U. de San Martín</td>\n",
              "    </tr>\n",
              "    <tr>\n",
              "      <th>22</th>\n",
              "      <td>-</td>\n",
              "      <td>David Dioses</td>\n",
              "      <td>/wiki/Archivo:FootballPositionMID_es.png</td>\n",
              "      <td>24 años</td>\n",
              "      <td>0</td>\n",
              "      <td>0</td>\n",
              "      <td>Deportivo Municipal</td>\n",
              "      <td>Unión Comercio</td>\n",
              "    </tr>\n",
              "    <tr>\n",
              "      <th>23</th>\n",
              "      <td>10</td>\n",
              "      <td>Jefferson Farfán</td>\n",
              "      <td>/wiki/Archivo:FootballPositionFWD_es.png</td>\n",
              "      <td>35 años</td>\n",
              "      <td>95</td>\n",
              "      <td>27</td>\n",
              "      <td>Agente Libre</td>\n",
              "      <td>Alianza Lima</td>\n",
              "    </tr>\n",
              "    <tr>\n",
              "      <th>24</th>\n",
              "      <td>11</td>\n",
              "      <td>Raúl Ruidíaz</td>\n",
              "      <td>/wiki/Archivo:FootballPositionFWD_es.png</td>\n",
              "      <td>30 años</td>\n",
              "      <td>42</td>\n",
              "      <td>4</td>\n",
              "      <td>Seattle Sounders</td>\n",
              "      <td>Universitario</td>\n",
              "    </tr>\n",
              "    <tr>\n",
              "      <th>25</th>\n",
              "      <td>14</td>\n",
              "      <td>Andy Polo</td>\n",
              "      <td>/wiki/Archivo:FootballPositionFWD_es.png</td>\n",
              "      <td>25 años</td>\n",
              "      <td>19</td>\n",
              "      <td>1</td>\n",
              "      <td>Portland Timbers</td>\n",
              "      <td>Universitario</td>\n",
              "    </tr>\n",
              "    <tr>\n",
              "      <th>26</th>\n",
              "      <td>18</td>\n",
              "      <td>Andre Carrillo</td>\n",
              "      <td>/wiki/Archivo:FootballPositionFWD_es.png</td>\n",
              "      <td>29 años</td>\n",
              "      <td>55</td>\n",
              "      <td>6</td>\n",
              "      <td>Al-Hilal</td>\n",
              "      <td>Alianza Lima</td>\n",
              "    </tr>\n",
              "    <tr>\n",
              "      <th>27</th>\n",
              "      <td>20</td>\n",
              "      <td>Edison Flores</td>\n",
              "      <td>/wiki/Archivo:FootballPositionFWD_es.png</td>\n",
              "      <td>26 años</td>\n",
              "      <td>51</td>\n",
              "      <td>13</td>\n",
              "      <td>D.C. United</td>\n",
              "      <td>Universitario</td>\n",
              "    </tr>\n",
              "    <tr>\n",
              "      <th>28</th>\n",
              "      <td>-</td>\n",
              "      <td>Yordy Reyna</td>\n",
              "      <td>/wiki/Archivo:FootballPositionFWD_es.png</td>\n",
              "      <td>27 años</td>\n",
              "      <td>28</td>\n",
              "      <td>2</td>\n",
              "      <td>D.C. United</td>\n",
              "      <td>Alianza Lima</td>\n",
              "    </tr>\n",
              "    <tr>\n",
              "      <th>29</th>\n",
              "      <td>-</td>\n",
              "      <td>Aldair Rodríguez</td>\n",
              "      <td>/wiki/Archivo:FootballPositionFWD_es.png</td>\n",
              "      <td>26 años</td>\n",
              "      <td>0</td>\n",
              "      <td>0</td>\n",
              "      <td>América de Cali</td>\n",
              "      <td>Sport Boys</td>\n",
              "    </tr>\n",
              "  </tbody>\n",
              "</table>\n",
              "</div>"
            ],
            "text/plain": [
              "   Num.               Nombre  ...                 Equipo             Formativo\n",
              "0     1        Pedro Gallese  ...      Orlando City S.C.         U. San Martín\n",
              "1    12        José Carvallo  ...          Universitario         Universitario\n",
              "2    21        Carlos Cáceda  ...          F.B.C. Melgar         Universitario\n",
              "3     2           Luis Abram  ...         Vélez Sarfield               Regatas\n",
              "4     3           Aldo Corzo  ...          Universitario               Regatas\n",
              "5     4  Anderson Santamaría  ...             Atlas F.C.   Deportivo Municipal\n",
              "6     5      Christian Ramos  ...       U. César Vallejo      Sporting Cristal\n",
              "7     6        Miguel Trauco  ...     A.S. Saint-Étienne       Virgen de Chapi\n",
              "8    15      Carlos Zambrano  ...           Boca Juniors         FC Schalke 04\n",
              "9    17       Luis Advíncula  ...         Rayo Vallecano         Esther Grande\n",
              "10   22    Alexander Callens  ...     New York City F.C.            Sport Boys\n",
              "11    -        Miguel Araujo  ...               FC Emmen    Deportivo Cobresol\n",
              "12    -        Nilson Loyola  ...       Sporting Cristal      Sporting Cristal\n",
              "13    -         Marcos López  ...   San Jose Earthquakes         U. San Martín\n",
              "14    8      Christian Cueva  ...       Yeni Malatyaspor      U. de San Martín\n",
              "15   13         Renato Tapia  ...          Celta de Vigo         Esther Grande\n",
              "16   16  Christofer Gonzales  ...       Sporting Cristal         Universitario\n",
              "17   19       Yoshimar Yotún  ...              Cruz Azul     Academia Cantolao\n",
              "18   23         Pedro Aquino  ...              Club León      Sporting Cristal\n",
              "19    -          Sergio Peña  ...             F.C. Emmen          Alianza Lima\n",
              "20    -     Wilder Cartagena  ...             Godoy Cruz          Alianza Lima\n",
              "21    -        Raziel García  ...       U. César Vallejo      U. de San Martín\n",
              "22    -         David Dioses  ...    Deportivo Municipal        Unión Comercio\n",
              "23   10     Jefferson Farfán  ...           Agente Libre          Alianza Lima\n",
              "24   11         Raúl Ruidíaz  ...       Seattle Sounders         Universitario\n",
              "25   14            Andy Polo  ...       Portland Timbers         Universitario\n",
              "26   18       Andre Carrillo  ...               Al-Hilal          Alianza Lima\n",
              "27   20        Edison Flores  ...            D.C. United         Universitario\n",
              "28    -          Yordy Reyna  ...            D.C. United          Alianza Lima\n",
              "29    -     Aldair Rodríguez  ...        América de Cali            Sport Boys\n",
              "\n",
              "[30 rows x 8 columns]"
            ]
          },
          "metadata": {
            "tags": []
          },
          "execution_count": 15
        }
      ]
    },
    {
      "cell_type": "markdown",
      "metadata": {
        "id": "19iIxdH86IrD"
      },
      "source": [
        "- Vamos a **reemplazar** la columna **Pos.** para extraer la posición del jugador de todo el texto."
      ]
    },
    {
      "cell_type": "code",
      "metadata": {
        "id": "EqMa0AO4auWf",
        "outputId": "a44325c1-7ba4-49db-8a9c-7ca7267de2a5",
        "colab": {
          "base_uri": "https://localhost:8080/",
          "height": 979
        }
      },
      "source": [
        "valores_posicion = {\n",
        "  '/wiki/Archivo:FootballPositionGK_es.png': 'Arquero',\n",
        "  '/wiki/Archivo:FootballPositionCT_es.png': 'Defensa',\n",
        "  '/wiki/Archivo:FootballPositionMID_es.png': 'Volante',\n",
        "  '/wiki/Archivo:FootballPositionFWD_es.png': 'Delantero'\n",
        "}\n",
        "\n",
        "convocados_peru_df['Pos.'] = convocados_peru_df['Pos.'].replace(valores_posicion)\n",
        "convocados_peru_df"
      ],
      "execution_count": 16,
      "outputs": [
        {
          "output_type": "execute_result",
          "data": {
            "text/html": [
              "<div>\n",
              "<style scoped>\n",
              "    .dataframe tbody tr th:only-of-type {\n",
              "        vertical-align: middle;\n",
              "    }\n",
              "\n",
              "    .dataframe tbody tr th {\n",
              "        vertical-align: top;\n",
              "    }\n",
              "\n",
              "    .dataframe thead th {\n",
              "        text-align: right;\n",
              "    }\n",
              "</style>\n",
              "<table border=\"1\" class=\"dataframe\">\n",
              "  <thead>\n",
              "    <tr style=\"text-align: right;\">\n",
              "      <th></th>\n",
              "      <th>Num.</th>\n",
              "      <th>Nombre</th>\n",
              "      <th>Pos.</th>\n",
              "      <th>Edad</th>\n",
              "      <th>PJ</th>\n",
              "      <th>Goles</th>\n",
              "      <th>Equipo</th>\n",
              "      <th>Formativo</th>\n",
              "    </tr>\n",
              "  </thead>\n",
              "  <tbody>\n",
              "    <tr>\n",
              "      <th>0</th>\n",
              "      <td>1</td>\n",
              "      <td>Pedro Gallese</td>\n",
              "      <td>Arquero</td>\n",
              "      <td>30 años</td>\n",
              "      <td>62</td>\n",
              "      <td>-64</td>\n",
              "      <td>Orlando City S.C.</td>\n",
              "      <td>U. San Martín</td>\n",
              "    </tr>\n",
              "    <tr>\n",
              "      <th>1</th>\n",
              "      <td>12</td>\n",
              "      <td>José Carvallo</td>\n",
              "      <td>Arquero</td>\n",
              "      <td>34 años</td>\n",
              "      <td>7</td>\n",
              "      <td>-4</td>\n",
              "      <td>Universitario</td>\n",
              "      <td>Universitario</td>\n",
              "    </tr>\n",
              "    <tr>\n",
              "      <th>2</th>\n",
              "      <td>21</td>\n",
              "      <td>Carlos Cáceda</td>\n",
              "      <td>Arquero</td>\n",
              "      <td>28 años</td>\n",
              "      <td>6</td>\n",
              "      <td>-3</td>\n",
              "      <td>F.B.C. Melgar</td>\n",
              "      <td>Universitario</td>\n",
              "    </tr>\n",
              "    <tr>\n",
              "      <th>3</th>\n",
              "      <td>2</td>\n",
              "      <td>Luis Abram</td>\n",
              "      <td>Defensa</td>\n",
              "      <td>24 años</td>\n",
              "      <td>20</td>\n",
              "      <td>1</td>\n",
              "      <td>Vélez Sarfield</td>\n",
              "      <td>Regatas</td>\n",
              "    </tr>\n",
              "    <tr>\n",
              "      <th>4</th>\n",
              "      <td>3</td>\n",
              "      <td>Aldo Corzo</td>\n",
              "      <td>Defensa</td>\n",
              "      <td>31 años</td>\n",
              "      <td>31</td>\n",
              "      <td>0</td>\n",
              "      <td>Universitario</td>\n",
              "      <td>Regatas</td>\n",
              "    </tr>\n",
              "    <tr>\n",
              "      <th>5</th>\n",
              "      <td>4</td>\n",
              "      <td>Anderson Santamaría</td>\n",
              "      <td>Defensa</td>\n",
              "      <td>28 años</td>\n",
              "      <td>17</td>\n",
              "      <td>0</td>\n",
              "      <td>Atlas F.C.</td>\n",
              "      <td>Deportivo Municipal</td>\n",
              "    </tr>\n",
              "    <tr>\n",
              "      <th>6</th>\n",
              "      <td>5</td>\n",
              "      <td>Christian Ramos</td>\n",
              "      <td>Defensa</td>\n",
              "      <td>31 años</td>\n",
              "      <td>74</td>\n",
              "      <td>3</td>\n",
              "      <td>U. César Vallejo</td>\n",
              "      <td>Sporting Cristal</td>\n",
              "    </tr>\n",
              "    <tr>\n",
              "      <th>7</th>\n",
              "      <td>6</td>\n",
              "      <td>Miguel Trauco</td>\n",
              "      <td>Defensa</td>\n",
              "      <td>27 años</td>\n",
              "      <td>50</td>\n",
              "      <td>0</td>\n",
              "      <td>A.S. Saint-Étienne</td>\n",
              "      <td>Virgen de Chapi</td>\n",
              "    </tr>\n",
              "    <tr>\n",
              "      <th>8</th>\n",
              "      <td>15</td>\n",
              "      <td>Carlos Zambrano</td>\n",
              "      <td>Defensa</td>\n",
              "      <td>31 años</td>\n",
              "      <td>50</td>\n",
              "      <td>4</td>\n",
              "      <td>Boca Juniors</td>\n",
              "      <td>FC Schalke 04</td>\n",
              "    </tr>\n",
              "    <tr>\n",
              "      <th>9</th>\n",
              "      <td>17</td>\n",
              "      <td>Luis Advíncula</td>\n",
              "      <td>Defensa</td>\n",
              "      <td>29 años</td>\n",
              "      <td>89</td>\n",
              "      <td>1</td>\n",
              "      <td>Rayo Vallecano</td>\n",
              "      <td>Esther Grande</td>\n",
              "    </tr>\n",
              "    <tr>\n",
              "      <th>10</th>\n",
              "      <td>22</td>\n",
              "      <td>Alexander Callens</td>\n",
              "      <td>Defensa</td>\n",
              "      <td>28 años</td>\n",
              "      <td>13</td>\n",
              "      <td>1</td>\n",
              "      <td>New York City F.C.</td>\n",
              "      <td>Sport Boys</td>\n",
              "    </tr>\n",
              "    <tr>\n",
              "      <th>11</th>\n",
              "      <td>-</td>\n",
              "      <td>Miguel Araujo</td>\n",
              "      <td>Defensa</td>\n",
              "      <td>26 años</td>\n",
              "      <td>17</td>\n",
              "      <td>0</td>\n",
              "      <td>FC Emmen</td>\n",
              "      <td>Deportivo Cobresol</td>\n",
              "    </tr>\n",
              "    <tr>\n",
              "      <th>12</th>\n",
              "      <td>-</td>\n",
              "      <td>Nilson Loyola</td>\n",
              "      <td>Defensa</td>\n",
              "      <td>25 años</td>\n",
              "      <td>6</td>\n",
              "      <td>0</td>\n",
              "      <td>Sporting Cristal</td>\n",
              "      <td>Sporting Cristal</td>\n",
              "    </tr>\n",
              "    <tr>\n",
              "      <th>13</th>\n",
              "      <td>-</td>\n",
              "      <td>Marcos López</td>\n",
              "      <td>Defensa</td>\n",
              "      <td>20 años</td>\n",
              "      <td>2</td>\n",
              "      <td>0</td>\n",
              "      <td>San Jose Earthquakes</td>\n",
              "      <td>U. San Martín</td>\n",
              "    </tr>\n",
              "    <tr>\n",
              "      <th>14</th>\n",
              "      <td>8</td>\n",
              "      <td>Christian Cueva</td>\n",
              "      <td>Volante</td>\n",
              "      <td>28 años</td>\n",
              "      <td>62</td>\n",
              "      <td>10</td>\n",
              "      <td>Yeni Malatyaspor</td>\n",
              "      <td>U. de San Martín</td>\n",
              "    </tr>\n",
              "    <tr>\n",
              "      <th>15</th>\n",
              "      <td>13</td>\n",
              "      <td>Renato Tapia</td>\n",
              "      <td>Volante</td>\n",
              "      <td>25 años</td>\n",
              "      <td>53</td>\n",
              "      <td>3</td>\n",
              "      <td>Celta de Vigo</td>\n",
              "      <td>Esther Grande</td>\n",
              "    </tr>\n",
              "    <tr>\n",
              "      <th>16</th>\n",
              "      <td>16</td>\n",
              "      <td>Christofer Gonzales</td>\n",
              "      <td>Volante</td>\n",
              "      <td>27 años</td>\n",
              "      <td>22</td>\n",
              "      <td>2</td>\n",
              "      <td>Sporting Cristal</td>\n",
              "      <td>Universitario</td>\n",
              "    </tr>\n",
              "    <tr>\n",
              "      <th>17</th>\n",
              "      <td>19</td>\n",
              "      <td>Yoshimar Yotún</td>\n",
              "      <td>Volante</td>\n",
              "      <td>30 años</td>\n",
              "      <td>91</td>\n",
              "      <td>3</td>\n",
              "      <td>Cruz Azul</td>\n",
              "      <td>Academia Cantolao</td>\n",
              "    </tr>\n",
              "    <tr>\n",
              "      <th>18</th>\n",
              "      <td>23</td>\n",
              "      <td>Pedro Aquino</td>\n",
              "      <td>Volante</td>\n",
              "      <td>25 años</td>\n",
              "      <td>20</td>\n",
              "      <td>3</td>\n",
              "      <td>Club León</td>\n",
              "      <td>Sporting Cristal</td>\n",
              "    </tr>\n",
              "    <tr>\n",
              "      <th>19</th>\n",
              "      <td>-</td>\n",
              "      <td>Sergio Peña</td>\n",
              "      <td>Volante</td>\n",
              "      <td>24 años</td>\n",
              "      <td>6</td>\n",
              "      <td>0</td>\n",
              "      <td>F.C. Emmen</td>\n",
              "      <td>Alianza Lima</td>\n",
              "    </tr>\n",
              "    <tr>\n",
              "      <th>20</th>\n",
              "      <td>-</td>\n",
              "      <td>Wilder Cartagena</td>\n",
              "      <td>Volante</td>\n",
              "      <td>26 años</td>\n",
              "      <td>4</td>\n",
              "      <td>0</td>\n",
              "      <td>Godoy Cruz</td>\n",
              "      <td>Alianza Lima</td>\n",
              "    </tr>\n",
              "    <tr>\n",
              "      <th>21</th>\n",
              "      <td>-</td>\n",
              "      <td>Raziel García</td>\n",
              "      <td>Volante</td>\n",
              "      <td>26 años</td>\n",
              "      <td>0</td>\n",
              "      <td>0</td>\n",
              "      <td>U. César Vallejo</td>\n",
              "      <td>U. de San Martín</td>\n",
              "    </tr>\n",
              "    <tr>\n",
              "      <th>22</th>\n",
              "      <td>-</td>\n",
              "      <td>David Dioses</td>\n",
              "      <td>Volante</td>\n",
              "      <td>24 años</td>\n",
              "      <td>0</td>\n",
              "      <td>0</td>\n",
              "      <td>Deportivo Municipal</td>\n",
              "      <td>Unión Comercio</td>\n",
              "    </tr>\n",
              "    <tr>\n",
              "      <th>23</th>\n",
              "      <td>10</td>\n",
              "      <td>Jefferson Farfán</td>\n",
              "      <td>Delantero</td>\n",
              "      <td>35 años</td>\n",
              "      <td>95</td>\n",
              "      <td>27</td>\n",
              "      <td>Agente Libre</td>\n",
              "      <td>Alianza Lima</td>\n",
              "    </tr>\n",
              "    <tr>\n",
              "      <th>24</th>\n",
              "      <td>11</td>\n",
              "      <td>Raúl Ruidíaz</td>\n",
              "      <td>Delantero</td>\n",
              "      <td>30 años</td>\n",
              "      <td>42</td>\n",
              "      <td>4</td>\n",
              "      <td>Seattle Sounders</td>\n",
              "      <td>Universitario</td>\n",
              "    </tr>\n",
              "    <tr>\n",
              "      <th>25</th>\n",
              "      <td>14</td>\n",
              "      <td>Andy Polo</td>\n",
              "      <td>Delantero</td>\n",
              "      <td>25 años</td>\n",
              "      <td>19</td>\n",
              "      <td>1</td>\n",
              "      <td>Portland Timbers</td>\n",
              "      <td>Universitario</td>\n",
              "    </tr>\n",
              "    <tr>\n",
              "      <th>26</th>\n",
              "      <td>18</td>\n",
              "      <td>Andre Carrillo</td>\n",
              "      <td>Delantero</td>\n",
              "      <td>29 años</td>\n",
              "      <td>55</td>\n",
              "      <td>6</td>\n",
              "      <td>Al-Hilal</td>\n",
              "      <td>Alianza Lima</td>\n",
              "    </tr>\n",
              "    <tr>\n",
              "      <th>27</th>\n",
              "      <td>20</td>\n",
              "      <td>Edison Flores</td>\n",
              "      <td>Delantero</td>\n",
              "      <td>26 años</td>\n",
              "      <td>51</td>\n",
              "      <td>13</td>\n",
              "      <td>D.C. United</td>\n",
              "      <td>Universitario</td>\n",
              "    </tr>\n",
              "    <tr>\n",
              "      <th>28</th>\n",
              "      <td>-</td>\n",
              "      <td>Yordy Reyna</td>\n",
              "      <td>Delantero</td>\n",
              "      <td>27 años</td>\n",
              "      <td>28</td>\n",
              "      <td>2</td>\n",
              "      <td>D.C. United</td>\n",
              "      <td>Alianza Lima</td>\n",
              "    </tr>\n",
              "    <tr>\n",
              "      <th>29</th>\n",
              "      <td>-</td>\n",
              "      <td>Aldair Rodríguez</td>\n",
              "      <td>Delantero</td>\n",
              "      <td>26 años</td>\n",
              "      <td>0</td>\n",
              "      <td>0</td>\n",
              "      <td>América de Cali</td>\n",
              "      <td>Sport Boys</td>\n",
              "    </tr>\n",
              "  </tbody>\n",
              "</table>\n",
              "</div>"
            ],
            "text/plain": [
              "   Num.               Nombre  ...                 Equipo             Formativo\n",
              "0     1        Pedro Gallese  ...      Orlando City S.C.         U. San Martín\n",
              "1    12        José Carvallo  ...          Universitario         Universitario\n",
              "2    21        Carlos Cáceda  ...          F.B.C. Melgar         Universitario\n",
              "3     2           Luis Abram  ...         Vélez Sarfield               Regatas\n",
              "4     3           Aldo Corzo  ...          Universitario               Regatas\n",
              "5     4  Anderson Santamaría  ...             Atlas F.C.   Deportivo Municipal\n",
              "6     5      Christian Ramos  ...       U. César Vallejo      Sporting Cristal\n",
              "7     6        Miguel Trauco  ...     A.S. Saint-Étienne       Virgen de Chapi\n",
              "8    15      Carlos Zambrano  ...           Boca Juniors         FC Schalke 04\n",
              "9    17       Luis Advíncula  ...         Rayo Vallecano         Esther Grande\n",
              "10   22    Alexander Callens  ...     New York City F.C.            Sport Boys\n",
              "11    -        Miguel Araujo  ...               FC Emmen    Deportivo Cobresol\n",
              "12    -        Nilson Loyola  ...       Sporting Cristal      Sporting Cristal\n",
              "13    -         Marcos López  ...   San Jose Earthquakes         U. San Martín\n",
              "14    8      Christian Cueva  ...       Yeni Malatyaspor      U. de San Martín\n",
              "15   13         Renato Tapia  ...          Celta de Vigo         Esther Grande\n",
              "16   16  Christofer Gonzales  ...       Sporting Cristal         Universitario\n",
              "17   19       Yoshimar Yotún  ...              Cruz Azul     Academia Cantolao\n",
              "18   23         Pedro Aquino  ...              Club León      Sporting Cristal\n",
              "19    -          Sergio Peña  ...             F.C. Emmen          Alianza Lima\n",
              "20    -     Wilder Cartagena  ...             Godoy Cruz          Alianza Lima\n",
              "21    -        Raziel García  ...       U. César Vallejo      U. de San Martín\n",
              "22    -         David Dioses  ...    Deportivo Municipal        Unión Comercio\n",
              "23   10     Jefferson Farfán  ...           Agente Libre          Alianza Lima\n",
              "24   11         Raúl Ruidíaz  ...       Seattle Sounders         Universitario\n",
              "25   14            Andy Polo  ...       Portland Timbers         Universitario\n",
              "26   18       Andre Carrillo  ...               Al-Hilal          Alianza Lima\n",
              "27   20        Edison Flores  ...            D.C. United         Universitario\n",
              "28    -          Yordy Reyna  ...            D.C. United          Alianza Lima\n",
              "29    -     Aldair Rodríguez  ...        América de Cali            Sport Boys\n",
              "\n",
              "[30 rows x 8 columns]"
            ]
          },
          "metadata": {
            "tags": []
          },
          "execution_count": 16
        }
      ]
    },
    {
      "cell_type": "markdown",
      "metadata": {
        "id": "zUhI1-3a6bR_"
      },
      "source": [
        "- Tranformamos algunos **tipos de datos** a **entero**"
      ]
    },
    {
      "cell_type": "code",
      "metadata": {
        "id": "kojTIOAycg_W",
        "outputId": "c4bc2891-8dc4-4c15-ce89-1c92b8263e99",
        "colab": {
          "base_uri": "https://localhost:8080/",
          "height": 544
        }
      },
      "source": [
        "# Convierte a valores de tipo entero (int)\n",
        "convocados_peru_df['PJ'].astype(int)\n",
        "convocados_peru_df['Goles'].astype(int)"
      ],
      "execution_count": 17,
      "outputs": [
        {
          "output_type": "execute_result",
          "data": {
            "text/plain": [
              "0    -64\n",
              "1     -4\n",
              "2     -3\n",
              "3      1\n",
              "4      0\n",
              "5      0\n",
              "6      3\n",
              "7      0\n",
              "8      4\n",
              "9      1\n",
              "10     1\n",
              "11     0\n",
              "12     0\n",
              "13     0\n",
              "14    10\n",
              "15     3\n",
              "16     2\n",
              "17     3\n",
              "18     3\n",
              "19     0\n",
              "20     0\n",
              "21     0\n",
              "22     0\n",
              "23    27\n",
              "24     4\n",
              "25     1\n",
              "26     6\n",
              "27    13\n",
              "28     2\n",
              "29     0\n",
              "Name: Goles, dtype: int64"
            ]
          },
          "metadata": {
            "tags": []
          },
          "execution_count": 17
        }
      ]
    },
    {
      "cell_type": "code",
      "metadata": {
        "id": "ivhCbvPBc2Uq"
      },
      "source": [
        "# Eliminando el texto 'años' y convirtiendo el valor atipo de dato entero (int)\n",
        "convocados_peru_df['Edad'] = convocados_peru_df['Edad'].str.strip(' años').astype(int)"
      ],
      "execution_count": 18,
      "outputs": []
    },
    {
      "cell_type": "markdown",
      "metadata": {
        "id": "OhS4fmTl6jpl"
      },
      "source": [
        "- Finalmente generamos y descargamos el archivo **csv**"
      ]
    },
    {
      "cell_type": "code",
      "metadata": {
        "id": "SZepHETb8gY_"
      },
      "source": [
        "# Grabamos el archivo CSV dentro de Colab\n",
        "convocados_peru_df.to_csv('convocados_peru.csv', index=False)"
      ],
      "execution_count": 19,
      "outputs": []
    },
    {
      "cell_type": "code",
      "metadata": {
        "id": "u6kv9_gB8vqp",
        "outputId": "93ad2c13-7b43-4815-9d7c-14796bf2f163",
        "colab": {
          "base_uri": "https://localhost:8080/",
          "height": 17
        }
      },
      "source": [
        "# Descargamos el archivo en nuestra PC\n",
        "files.download('convocados_peru.csv')"
      ],
      "execution_count": 20,
      "outputs": [
        {
          "output_type": "display_data",
          "data": {
            "application/javascript": [
              "\n",
              "    async function download(id, filename, size) {\n",
              "      if (!google.colab.kernel.accessAllowed) {\n",
              "        return;\n",
              "      }\n",
              "      const div = document.createElement('div');\n",
              "      const label = document.createElement('label');\n",
              "      label.textContent = `Downloading \"${filename}\": `;\n",
              "      div.appendChild(label);\n",
              "      const progress = document.createElement('progress');\n",
              "      progress.max = size;\n",
              "      div.appendChild(progress);\n",
              "      document.body.appendChild(div);\n",
              "\n",
              "      const buffers = [];\n",
              "      let downloaded = 0;\n",
              "\n",
              "      const channel = await google.colab.kernel.comms.open(id);\n",
              "      // Send a message to notify the kernel that we're ready.\n",
              "      channel.send({})\n",
              "\n",
              "      for await (const message of channel.messages) {\n",
              "        // Send a message to notify the kernel that we're ready.\n",
              "        channel.send({})\n",
              "        if (message.buffers) {\n",
              "          for (const buffer of message.buffers) {\n",
              "            buffers.push(buffer);\n",
              "            downloaded += buffer.byteLength;\n",
              "            progress.value = downloaded;\n",
              "          }\n",
              "        }\n",
              "      }\n",
              "      const blob = new Blob(buffers, {type: 'application/binary'});\n",
              "      const a = document.createElement('a');\n",
              "      a.href = window.URL.createObjectURL(blob);\n",
              "      a.download = filename;\n",
              "      div.appendChild(a);\n",
              "      a.click();\n",
              "      div.remove();\n",
              "    }\n",
              "  "
            ],
            "text/plain": [
              "<IPython.core.display.Javascript object>"
            ]
          },
          "metadata": {
            "tags": []
          }
        },
        {
          "output_type": "display_data",
          "data": {
            "application/javascript": [
              "download(\"download_eebdf59d-b4fd-4e48-8374-5d261000f031\", \"convocados_peru.csv\", 2001)"
            ],
            "text/plain": [
              "<IPython.core.display.Javascript object>"
            ]
          },
          "metadata": {
            "tags": []
          }
        }
      ]
    },
    {
      "cell_type": "markdown",
      "metadata": {
        "id": "_Mc_0bWT7Ioh"
      },
      "source": [
        "# Caso 2: Captura de datos de Retail"
      ]
    },
    {
      "cell_type": "markdown",
      "metadata": {
        "id": "7CH1GQqf-7nT"
      },
      "source": [
        "## 1. Identificación de datos\n",
        "\n",
        "**Objetivo**: Obtener precios de productos en Supermercados (Wong)\n",
        "\n",
        "¡Ajá, puedo obtener datos desde su pagina web! Para este ejemplo veamos la sección \"Abarrotes\"."
      ]
    },
    {
      "cell_type": "markdown",
      "metadata": {
        "id": "3iu_VBYRrQwd"
      },
      "source": [
        "## 3. Disenando el Web Scraper\n",
        "\n",
        "1. Identifiquemos la items objetivo: \"Productos dentro de la cuadricula de productos\"\n",
        "2. Seleccionar el conjunto de los items objetivo (ul) - Tag name, XPath u otro\n",
        "3. Definir nombres de columnas\n",
        "4. Extraer datos de cada item (li) - Iterar sobre los items (li)\n",
        "5. Guardar archivo en formato CSV (Comma Separated Values)"
      ]
    },
    {
      "cell_type": "code",
      "metadata": {
        "id": "l23Erd62rxtJ"
      },
      "source": [
        "# Definamos la URL\n",
        "WONG_URL = \"https://www.wong.pe/abarrotes\"\n",
        "\n",
        "# Extraemos el codigo fuente (HTML)\n",
        "source = requests.get(WONG_URL).text\n",
        "soup = bs.BeautifulSoup(source,'lxml')"
      ],
      "execution_count": 21,
      "outputs": []
    },
    {
      "cell_type": "code",
      "metadata": {
        "id": "lg31dS35r7QX"
      },
      "source": [
        "product_lists = soup.find_all('ul')"
      ],
      "execution_count": 22,
      "outputs": []
    },
    {
      "cell_type": "code",
      "metadata": {
        "id": "GN7-YjvEtF6q",
        "outputId": "374106c0-8e33-4c9b-a9df-4dc3bb1c2c2a",
        "colab": {
          "base_uri": "https://localhost:8080/",
          "height": 34
        }
      },
      "source": [
        "len(product_lists)"
      ],
      "execution_count": 23,
      "outputs": [
        {
          "output_type": "execute_result",
          "data": {
            "text/plain": [
              "56"
            ]
          },
          "metadata": {
            "tags": []
          },
          "execution_count": 23
        }
      ]
    },
    {
      "cell_type": "code",
      "metadata": {
        "id": "xjvXxUkOsUAN"
      },
      "source": [
        "product_items = product_lists[18].find_all('li')"
      ],
      "execution_count": 24,
      "outputs": []
    },
    {
      "cell_type": "code",
      "metadata": {
        "id": "1OUUkqzjtNXA",
        "outputId": "6f01783a-e0ac-4461-f7c0-994bddbf770e",
        "colab": {
          "base_uri": "https://localhost:8080/",
          "height": 34
        }
      },
      "source": [
        "len(product_items)"
      ],
      "execution_count": 25,
      "outputs": [
        {
          "output_type": "execute_result",
          "data": {
            "text/plain": [
              "73"
            ]
          },
          "metadata": {
            "tags": []
          },
          "execution_count": 25
        }
      ]
    },
    {
      "cell_type": "code",
      "metadata": {
        "id": "CDmq5ipztP64",
        "outputId": "01c820c8-93e2-43ed-c3a0-d5b0d45d88d9",
        "colab": {
          "base_uri": "https://localhost:8080/",
          "height": 649
        }
      },
      "source": [
        "selected_div_attrs = ['data-name', 'data-price', 'data-brand', 'data-category']\n",
        "data = []\n",
        "for product_item in product_items:\n",
        "  try:\n",
        "    product_main_div = product_item.find('div')\n",
        "    product_data = [product_main_div[attr] for attr in selected_div_attrs]\n",
        "    print(product_data, end='\\n\\n')\n",
        "    data.append(product_data)\n",
        "  except:\n",
        "    pass"
      ],
      "execution_count": 26,
      "outputs": [
        {
          "output_type": "stream",
          "text": [
            "['Aceite Vegetal Primor Premium Botella 1 L', 'S/. 7.49', 'Primor', 'https://www.wong.pe/abarrotes/aceites/aceites-vegetales']\n",
            "\n",
            "['Papas Artesanales Andinas Saladas Inka Chips Bolsa 142 g', 'S/. 6.20', 'Inka Chips', 'https://www.wong.pe/abarrotes/galletas-snacks-y-golosinas/piqueos']\n",
            "\n",
            "['Sal de Mesa Marina Emsal Bolsa 1 kg', 'S/. 2.15', 'Emsal', 'https://www.wong.pe/abarrotes/condimentos-vinagres-y-comida-instantanea/sal-sal-parrillera-y-sal-especial']\n",
            "\n",
            "['Galletas Oreo Nabisco Original Pack 6 Unid x 36 g', 'S/. 3.29', 'Nabisco', 'https://www.wong.pe/abarrotes/galletas-snacks-y-golosinas/galletas']\n",
            "\n",
            "['Galletas Vainilla Field Pack 6 Unid x 37 g', 'S/. 3.20', 'Field', 'https://www.wong.pe/abarrotes/galletas-snacks-y-golosinas/galletas']\n",
            "\n",
            "['Galletas San Jorge Soda Pack 7 Unidades', 'S/. 2.89', 'San Jorge', 'https://www.wong.pe/abarrotes/galletas-snacks-y-golosinas/galletas']\n",
            "\n",
            "['Galletas Morochas Nestlé Pack 6 Unidades', 'S/. 4.30', 'Nestlé', 'https://www.wong.pe/abarrotes/galletas-snacks-y-golosinas/galletas']\n",
            "\n",
            "['Galletas Soda Field Pack 6 Unid x 34 g', 'S/. 2.30', 'Field', 'https://www.wong.pe/abarrotes/galletas-snacks-y-golosinas/galletas']\n",
            "\n",
            "['Spaguetti Don Vittorio Paquete 1 Kg', 'S/. 4.59', 'Don Vittorio', 'https://www.wong.pe/abarrotes/fideos-pastas-y-salsas/fideos-largos']\n",
            "\n",
            "['Lomos de Atún Campomar en Aceite Lata 170 gr', 'S/. 5.20', 'Campomar', 'https://www.wong.pe/abarrotes/alimentos-en-conserva/pescado-en-conserva']\n",
            "\n",
            "['Lenteja Bebé Tesoro Del Campo Bolsa 500 g', 'S/. 4.99', 'Tesoro Del Campo', 'https://www.wong.pe/abarrotes/menestras/lentejas-pallares-y-garbanzos']\n",
            "\n",
            "['Lenteja Costeño Bolsa 500 g', 'S/. 5.39', 'Costeño', 'https://www.wong.pe/abarrotes/menestras/lentejas-pallares-y-garbanzos']\n",
            "\n",
            "['Arroz Extra Valle Norte Mejorado Bolsa 5 Kg', 'S/. 19.99', 'Valle Norte', 'https://www.wong.pe/abarrotes/arroz/arroz-extra-y-superior']\n",
            "\n",
            "['Arroz Extra Costeño Bolsa 5 Kg', 'S/. 20.29', 'Costeño', 'https://www.wong.pe/abarrotes/arroz/arroz-extra-y-superior']\n",
            "\n",
            "['Arroz Extra Costeño Bolsa 750 g', 'S/. 3.79', 'Costeño', 'https://www.wong.pe/abarrotes/arroz/arroz-extra-y-superior']\n",
            "\n",
            "['Filete De Atún En Agua y Sal Florida Lata 150 g', 'S/. 6.20', 'Florida', 'https://www.wong.pe/abarrotes/alimentos-en-conserva/pescado-en-conserva']\n",
            "\n",
            "['Gloria Leche Condensada Lata 393 g', 'S/. 5.00', 'Gloria', 'https://www.wong.pe/abarrotes/reposteria/leches-condensadas']\n",
            "\n",
            "['Crema de Leche Piamonte Bolsa 236 ml', 'S/. 4.90', 'Piamonte', 'https://www.wong.pe/abarrotes/reposteria/ingredientes-y-complementos-de-decoracion']\n",
            "\n"
          ],
          "name": "stdout"
        }
      ]
    },
    {
      "cell_type": "code",
      "metadata": {
        "id": "mAppzSuGuyEr"
      },
      "source": [
        "# Creamos un DataFrame / Tabla de datos\n",
        "productos_wong_df = pd.DataFrame(data, columns=selected_div_attrs)"
      ],
      "execution_count": 27,
      "outputs": []
    },
    {
      "cell_type": "code",
      "metadata": {
        "id": "5DxevRleu62X",
        "outputId": "a7083f14-a1c9-4ef3-8839-ad25970328c7",
        "colab": {
          "base_uri": "https://localhost:8080/",
          "height": 607
        }
      },
      "source": [
        "productos_wong_df"
      ],
      "execution_count": 28,
      "outputs": [
        {
          "output_type": "execute_result",
          "data": {
            "text/html": [
              "<div>\n",
              "<style scoped>\n",
              "    .dataframe tbody tr th:only-of-type {\n",
              "        vertical-align: middle;\n",
              "    }\n",
              "\n",
              "    .dataframe tbody tr th {\n",
              "        vertical-align: top;\n",
              "    }\n",
              "\n",
              "    .dataframe thead th {\n",
              "        text-align: right;\n",
              "    }\n",
              "</style>\n",
              "<table border=\"1\" class=\"dataframe\">\n",
              "  <thead>\n",
              "    <tr style=\"text-align: right;\">\n",
              "      <th></th>\n",
              "      <th>data-name</th>\n",
              "      <th>data-price</th>\n",
              "      <th>data-brand</th>\n",
              "      <th>data-category</th>\n",
              "    </tr>\n",
              "  </thead>\n",
              "  <tbody>\n",
              "    <tr>\n",
              "      <th>0</th>\n",
              "      <td>Aceite Vegetal Primor Premium Botella 1 L</td>\n",
              "      <td>S/. 7.49</td>\n",
              "      <td>Primor</td>\n",
              "      <td>https://www.wong.pe/abarrotes/aceites/aceites-...</td>\n",
              "    </tr>\n",
              "    <tr>\n",
              "      <th>1</th>\n",
              "      <td>Papas Artesanales Andinas Saladas Inka Chips B...</td>\n",
              "      <td>S/. 6.20</td>\n",
              "      <td>Inka Chips</td>\n",
              "      <td>https://www.wong.pe/abarrotes/galletas-snacks-...</td>\n",
              "    </tr>\n",
              "    <tr>\n",
              "      <th>2</th>\n",
              "      <td>Sal de Mesa Marina Emsal Bolsa 1 kg</td>\n",
              "      <td>S/. 2.15</td>\n",
              "      <td>Emsal</td>\n",
              "      <td>https://www.wong.pe/abarrotes/condimentos-vina...</td>\n",
              "    </tr>\n",
              "    <tr>\n",
              "      <th>3</th>\n",
              "      <td>Galletas Oreo Nabisco Original Pack 6 Unid x 36 g</td>\n",
              "      <td>S/. 3.29</td>\n",
              "      <td>Nabisco</td>\n",
              "      <td>https://www.wong.pe/abarrotes/galletas-snacks-...</td>\n",
              "    </tr>\n",
              "    <tr>\n",
              "      <th>4</th>\n",
              "      <td>Galletas Vainilla Field Pack 6 Unid x 37 g</td>\n",
              "      <td>S/. 3.20</td>\n",
              "      <td>Field</td>\n",
              "      <td>https://www.wong.pe/abarrotes/galletas-snacks-...</td>\n",
              "    </tr>\n",
              "    <tr>\n",
              "      <th>5</th>\n",
              "      <td>Galletas San Jorge Soda Pack 7 Unidades</td>\n",
              "      <td>S/. 2.89</td>\n",
              "      <td>San Jorge</td>\n",
              "      <td>https://www.wong.pe/abarrotes/galletas-snacks-...</td>\n",
              "    </tr>\n",
              "    <tr>\n",
              "      <th>6</th>\n",
              "      <td>Galletas Morochas Nestlé Pack 6 Unidades</td>\n",
              "      <td>S/. 4.30</td>\n",
              "      <td>Nestlé</td>\n",
              "      <td>https://www.wong.pe/abarrotes/galletas-snacks-...</td>\n",
              "    </tr>\n",
              "    <tr>\n",
              "      <th>7</th>\n",
              "      <td>Galletas Soda Field Pack 6 Unid x 34 g</td>\n",
              "      <td>S/. 2.30</td>\n",
              "      <td>Field</td>\n",
              "      <td>https://www.wong.pe/abarrotes/galletas-snacks-...</td>\n",
              "    </tr>\n",
              "    <tr>\n",
              "      <th>8</th>\n",
              "      <td>Spaguetti Don Vittorio Paquete 1 Kg</td>\n",
              "      <td>S/. 4.59</td>\n",
              "      <td>Don Vittorio</td>\n",
              "      <td>https://www.wong.pe/abarrotes/fideos-pastas-y-...</td>\n",
              "    </tr>\n",
              "    <tr>\n",
              "      <th>9</th>\n",
              "      <td>Lomos de Atún Campomar en Aceite Lata 170 gr</td>\n",
              "      <td>S/. 5.20</td>\n",
              "      <td>Campomar</td>\n",
              "      <td>https://www.wong.pe/abarrotes/alimentos-en-con...</td>\n",
              "    </tr>\n",
              "    <tr>\n",
              "      <th>10</th>\n",
              "      <td>Lenteja Bebé Tesoro Del Campo Bolsa 500 g</td>\n",
              "      <td>S/. 4.99</td>\n",
              "      <td>Tesoro Del Campo</td>\n",
              "      <td>https://www.wong.pe/abarrotes/menestras/lentej...</td>\n",
              "    </tr>\n",
              "    <tr>\n",
              "      <th>11</th>\n",
              "      <td>Lenteja Costeño Bolsa 500 g</td>\n",
              "      <td>S/. 5.39</td>\n",
              "      <td>Costeño</td>\n",
              "      <td>https://www.wong.pe/abarrotes/menestras/lentej...</td>\n",
              "    </tr>\n",
              "    <tr>\n",
              "      <th>12</th>\n",
              "      <td>Arroz Extra Valle Norte Mejorado Bolsa 5 Kg</td>\n",
              "      <td>S/. 19.99</td>\n",
              "      <td>Valle Norte</td>\n",
              "      <td>https://www.wong.pe/abarrotes/arroz/arroz-extr...</td>\n",
              "    </tr>\n",
              "    <tr>\n",
              "      <th>13</th>\n",
              "      <td>Arroz Extra Costeño Bolsa 5 Kg</td>\n",
              "      <td>S/. 20.29</td>\n",
              "      <td>Costeño</td>\n",
              "      <td>https://www.wong.pe/abarrotes/arroz/arroz-extr...</td>\n",
              "    </tr>\n",
              "    <tr>\n",
              "      <th>14</th>\n",
              "      <td>Arroz Extra Costeño Bolsa 750 g</td>\n",
              "      <td>S/. 3.79</td>\n",
              "      <td>Costeño</td>\n",
              "      <td>https://www.wong.pe/abarrotes/arroz/arroz-extr...</td>\n",
              "    </tr>\n",
              "    <tr>\n",
              "      <th>15</th>\n",
              "      <td>Filete De Atún En Agua y Sal Florida Lata 150 g</td>\n",
              "      <td>S/. 6.20</td>\n",
              "      <td>Florida</td>\n",
              "      <td>https://www.wong.pe/abarrotes/alimentos-en-con...</td>\n",
              "    </tr>\n",
              "    <tr>\n",
              "      <th>16</th>\n",
              "      <td>Gloria Leche Condensada Lata 393 g</td>\n",
              "      <td>S/. 5.00</td>\n",
              "      <td>Gloria</td>\n",
              "      <td>https://www.wong.pe/abarrotes/reposteria/leche...</td>\n",
              "    </tr>\n",
              "    <tr>\n",
              "      <th>17</th>\n",
              "      <td>Crema de Leche Piamonte Bolsa 236 ml</td>\n",
              "      <td>S/. 4.90</td>\n",
              "      <td>Piamonte</td>\n",
              "      <td>https://www.wong.pe/abarrotes/reposteria/ingre...</td>\n",
              "    </tr>\n",
              "  </tbody>\n",
              "</table>\n",
              "</div>"
            ],
            "text/plain": [
              "                                            data-name  ...                                      data-category\n",
              "0           Aceite Vegetal Primor Premium Botella 1 L  ...  https://www.wong.pe/abarrotes/aceites/aceites-...\n",
              "1   Papas Artesanales Andinas Saladas Inka Chips B...  ...  https://www.wong.pe/abarrotes/galletas-snacks-...\n",
              "2                 Sal de Mesa Marina Emsal Bolsa 1 kg  ...  https://www.wong.pe/abarrotes/condimentos-vina...\n",
              "3   Galletas Oreo Nabisco Original Pack 6 Unid x 36 g  ...  https://www.wong.pe/abarrotes/galletas-snacks-...\n",
              "4          Galletas Vainilla Field Pack 6 Unid x 37 g  ...  https://www.wong.pe/abarrotes/galletas-snacks-...\n",
              "5             Galletas San Jorge Soda Pack 7 Unidades  ...  https://www.wong.pe/abarrotes/galletas-snacks-...\n",
              "6            Galletas Morochas Nestlé Pack 6 Unidades  ...  https://www.wong.pe/abarrotes/galletas-snacks-...\n",
              "7              Galletas Soda Field Pack 6 Unid x 34 g  ...  https://www.wong.pe/abarrotes/galletas-snacks-...\n",
              "8                 Spaguetti Don Vittorio Paquete 1 Kg  ...  https://www.wong.pe/abarrotes/fideos-pastas-y-...\n",
              "9        Lomos de Atún Campomar en Aceite Lata 170 gr  ...  https://www.wong.pe/abarrotes/alimentos-en-con...\n",
              "10          Lenteja Bebé Tesoro Del Campo Bolsa 500 g  ...  https://www.wong.pe/abarrotes/menestras/lentej...\n",
              "11                        Lenteja Costeño Bolsa 500 g  ...  https://www.wong.pe/abarrotes/menestras/lentej...\n",
              "12        Arroz Extra Valle Norte Mejorado Bolsa 5 Kg  ...  https://www.wong.pe/abarrotes/arroz/arroz-extr...\n",
              "13                     Arroz Extra Costeño Bolsa 5 Kg  ...  https://www.wong.pe/abarrotes/arroz/arroz-extr...\n",
              "14                    Arroz Extra Costeño Bolsa 750 g  ...  https://www.wong.pe/abarrotes/arroz/arroz-extr...\n",
              "15    Filete De Atún En Agua y Sal Florida Lata 150 g  ...  https://www.wong.pe/abarrotes/alimentos-en-con...\n",
              "16                 Gloria Leche Condensada Lata 393 g  ...  https://www.wong.pe/abarrotes/reposteria/leche...\n",
              "17               Crema de Leche Piamonte Bolsa 236 ml  ...  https://www.wong.pe/abarrotes/reposteria/ingre...\n",
              "\n",
              "[18 rows x 4 columns]"
            ]
          },
          "metadata": {
            "tags": []
          },
          "execution_count": 28
        }
      ]
    },
    {
      "cell_type": "code",
      "metadata": {
        "id": "G7hntcL5vAxl"
      },
      "source": [
        "# Grabamos el archivo CSV dentro de Colab\n",
        "productos_wong_df.to_csv('productos_wong.csv', index=False)"
      ],
      "execution_count": 29,
      "outputs": []
    },
    {
      "cell_type": "code",
      "metadata": {
        "id": "nXDJlhuLvDAI",
        "outputId": "55d78d89-e180-43bf-a99a-2019efca9060",
        "colab": {
          "base_uri": "https://localhost:8080/",
          "height": 17
        }
      },
      "source": [
        "# Descargamos el archivo en nuestra PC\n",
        "files.download('productos_wong.csv')"
      ],
      "execution_count": 30,
      "outputs": [
        {
          "output_type": "display_data",
          "data": {
            "application/javascript": [
              "\n",
              "    async function download(id, filename, size) {\n",
              "      if (!google.colab.kernel.accessAllowed) {\n",
              "        return;\n",
              "      }\n",
              "      const div = document.createElement('div');\n",
              "      const label = document.createElement('label');\n",
              "      label.textContent = `Downloading \"${filename}\": `;\n",
              "      div.appendChild(label);\n",
              "      const progress = document.createElement('progress');\n",
              "      progress.max = size;\n",
              "      div.appendChild(progress);\n",
              "      document.body.appendChild(div);\n",
              "\n",
              "      const buffers = [];\n",
              "      let downloaded = 0;\n",
              "\n",
              "      const channel = await google.colab.kernel.comms.open(id);\n",
              "      // Send a message to notify the kernel that we're ready.\n",
              "      channel.send({})\n",
              "\n",
              "      for await (const message of channel.messages) {\n",
              "        // Send a message to notify the kernel that we're ready.\n",
              "        channel.send({})\n",
              "        if (message.buffers) {\n",
              "          for (const buffer of message.buffers) {\n",
              "            buffers.push(buffer);\n",
              "            downloaded += buffer.byteLength;\n",
              "            progress.value = downloaded;\n",
              "          }\n",
              "        }\n",
              "      }\n",
              "      const blob = new Blob(buffers, {type: 'application/binary'});\n",
              "      const a = document.createElement('a');\n",
              "      a.href = window.URL.createObjectURL(blob);\n",
              "      a.download = filename;\n",
              "      div.appendChild(a);\n",
              "      a.click();\n",
              "      div.remove();\n",
              "    }\n",
              "  "
            ],
            "text/plain": [
              "<IPython.core.display.Javascript object>"
            ]
          },
          "metadata": {
            "tags": []
          }
        },
        {
          "output_type": "display_data",
          "data": {
            "application/javascript": [
              "download(\"download_e5ab646f-678f-4bbc-a2c1-58cca5ac659e\", \"productos_wong.csv\", 2341)"
            ],
            "text/plain": [
              "<IPython.core.display.Javascript object>"
            ]
          },
          "metadata": {
            "tags": []
          }
        }
      ]
    },
    {
      "cell_type": "markdown",
      "metadata": {
        "id": "EMPPocQ2-28o"
      },
      "source": [
        "### Recursos Adicionales de Beautiful Soup 4\n",
        "\n",
        "- [Web scraping and parsing with Beautiful Soup 4](https://pythonprogramming.net/introduction-scraping-parsing-beautiful-soup-tutorial/)\n",
        "- [Beautiful Soup Documentation¶](https://www.crummy.com/software/BeautifulSoup/bs4/doc/)"
      ]
    }
  ]
}