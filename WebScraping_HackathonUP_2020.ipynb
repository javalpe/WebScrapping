{
  "nbformat": 4,
  "nbformat_minor": 0,
  "metadata": {
    "colab": {
      "name": "Copia de TallerScraping-HackathonUP-2020.ipynb",
      "provenance": [],
      "collapsed_sections": []
    },
    "kernelspec": {
      "name": "python3",
      "display_name": "Python 3"
    }
  },
  "cells": [
    {
      "cell_type": "markdown",
      "metadata": {
        "id": "bDwnPYeUbnLb",
        "colab_type": "text"
      },
      "source": [
        "![Hackathon UP title](https://www.up.edu.pe/UP_Landing/hackathon-up/img/titulo2.png)\n",
        "\n",
        "# **Taller**: Aprende a obtener datos de la web: scraping\n",
        "\n",
        "## ¿Qué vamos a ver en este taller?\n",
        "\n",
        "En este taller primero aprenderemos qué es Web Scraping y para qué nos puede servir. Luego, vamos a aprender a implementar un Web Scraper utilizando Python para extraer datos de la web.\n",
        "\n",
        "<table>\n",
        "<tr>\n",
        "<th> <h3>Seccion</h3> </th>\n",
        "<th> <h3>Partes</h3> </th>\n",
        "<th> <h3>Duracion</h3> </th>\n",
        "<th>  </th>\n",
        "</tr>\n",
        "<tr>\n",
        "  <td> <h3>Teoría</h3> </td>\n",
        "  <td> \n",
        "    <ol>\n",
        "      <li>¿Qué es Web Scraping?</li>\n",
        "      <li>¿Por qué y cuando aplicaríamos Web Scraping?</li>\n",
        "      <li>Precauciones a tener en cuenta</li>\n",
        "      <li>Recursos Adicionales</li>\n",
        "    </ol>\n",
        "  </td>\n",
        "  <td> <h3>45 m</h3> </td>\n",
        "  <td>\n",
        "    <img src=\"https://media.giphy.com/media/d1ltmm0EvCAQo/giphy.gif\" alt=\"Milhouse on Q\" height=250px>\n",
        "  </td>\n",
        "</tr>\n",
        "<tr>\n",
        "  <td> <h3>Live Coding</h3> </td>\n",
        "  <td> \n",
        "    <ol>\n",
        "      <li>Identificación de datos</li>\n",
        "      <li>Recopilando la información necesaria</li>\n",
        "      <li>Disenando el Web Scraper</li>\n",
        "      <li>Implementación del Web Scraper</li>\n",
        "      <li>Pruebas de esquema de datos</li>\n",
        "    </ol>\n",
        "  </td>\n",
        "  <td> <h3>1 h 30 m</h3> </td>\n",
        "  <td>\n",
        "    <img src=\"https://media.giphy.com/media/LmNwrBhejkK9EFP504/giphy.gif\" alt=\"Cat Coder\" height=250px>\n",
        "  </td>\n",
        "</tr>\n",
        "</table>"
      ]
    },
    {
      "cell_type": "markdown",
      "metadata": {
        "id": "fhX74Tgvb0EE",
        "colab_type": "text"
      },
      "source": [
        "# Teoría\n",
        "\n",
        "## ¿Qué es Web Scraping?\n",
        "\n",
        "Web Scraping es una técnica en la cuál un programa de computadora **extrae datos** desde un sitio web. Dichos programas son llamados **Bots** o **Web crawlers**. Escencialmente se busca copiar datos de una web en una **base de datos** o una **hoja de cálculo**, para posteriormente visualizarlos o analizarlos.\n",
        "\n",
        "![Colatics Web Scraping Diagram](https://camo.githubusercontent.com/8ac742894c0c8c42c614220332741f7e9a6e80c6/68747470733a2f2f692e696d6775722e636f6d2f7a724d507452692e706e67)\n",
        "\n",
        "## ¿Por qué y cuándo aplicaríamos Web Scraping?\n",
        "\n",
        "- El principal motivo para utilizar Web Scraping es la necesidad de acceder a contenido **público** de la web, al cual no podemos acceder mediante una **API** (Application Programming Interface). \n",
        "\n",
        "![Table on Wikipedia Example](https://github.com/Claudio9701/WebScraping-HackathonUP-2020/blob/master/img/wikitable-ex.png?raw=1)\n",
        "\n",
        "- Podemos aplicar Web Scraping cuando la página nos lo permita, para verificar el permiso podemos ver el archivo robots.txt de la página objetivo.\n",
        "\n",
        "![Wikipedia robots.txt Example](https://github.com/Claudio9701/WebScraping-HackathonUP-2020/blob/master/img/robotstxt-ex.png?raw=1)\n",
        "\n",
        "## Precauciones a tener en cuenta 🤗🤝\n",
        "\n",
        "- Debemos hacernos una idea de la capacidad de la web en la que vamos a realizar Web Scraping para tratar de no **desbordar sus servidores**. \n",
        "\n",
        "- Tambien es necesario que verifiquemos si hay algun dato sensible que debamos reportar/tratar de manera especial. \n",
        "\n",
        "- Entre otros...\n",
        "\n",
        "### ¿Tienen alguna pregunta?\n",
        "\n",
        "![Questions Puppies](https://media.giphy.com/media/XHVmD4RyXgSjd8aUMb/giphy.gif)\n",
        "\n",
        "\n",
        "### Recursos adicionales\n",
        "\n",
        "- [Apify](https://apify.com/)\n",
        "- [Datos Abiertos Gobierno Peruano](https://www.datosabiertos.gob.pe//)\n",
        "- [Conjuntos de datos humanitarios](https://competent-hopper-e1121e.netlify.app/)\n"
      ]
    },
    {
      "cell_type": "markdown",
      "metadata": {
        "id": "SZqmIEysj6uo",
        "colab_type": "text"
      },
      "source": [
        "# Live Coding - Caso 1: Wikipedia <img src=\"https://img.icons8.com/color/96/000000/wikipedia-logo.png\"/>"
      ]
    },
    {
      "cell_type": "markdown",
      "metadata": {
        "id": "Cu44QlBOtXdB",
        "colab_type": "text"
      },
      "source": [
        "## 1. Identificación de datos\n",
        "\n",
        "**Objetivo**: Quiero analizar la selección de Fútbol de Perú\n",
        "\n",
        "¡Ajá, puedo obtener datos de las tablas de Wikipedia! Para este ejemplo veamos la sección \"Últimos Convocados\"."
      ]
    },
    {
      "cell_type": "code",
      "metadata": {
        "id": "3w2i2NxOvyyC",
        "colab_type": "code",
        "colab": {}
      },
      "source": [
        "# Importamos las librerias\n",
        "import bs4 as bs\n",
        "import requests\n",
        "import pandas as pd\n",
        "from google.colab import files\n",
        "\n",
        "# Definamos la URL\n",
        "URL = \"https://es.wikipedia.org/wiki/Selecci%C3%B3n_de_f%C3%BAtbol_del_Per%C3%BA\"\n",
        "\n",
        "# Extraemos el codigo fuente (HTML)\n",
        "source = requests.get(URL).text\n",
        "soup = bs.BeautifulSoup(source,'lxml')"
      ],
      "execution_count": null,
      "outputs": []
    },
    {
      "cell_type": "markdown",
      "metadata": {
        "id": "8DqAjsDJtmUN",
        "colab_type": "text"
      },
      "source": [
        "## 2. Recopilando la información necesaria\n",
        "\n",
        " - Revisemos el archivo robots.txt\n",
        " - **Inspeccionemos** la web"
      ]
    },
    {
      "cell_type": "code",
      "metadata": {
        "id": "XC6-guW3yiK0",
        "colab_type": "code",
        "colab": {
          "base_uri": "https://localhost:8080/",
          "height": 224
        },
        "outputId": "95d45504-54a9-44f0-d86a-cd405562355e"
      },
      "source": [
        "# title of the page\n",
        "print(soup.title, end='\\n\\n')\n",
        "\n",
        "# get attributes:\n",
        "print(soup.title.name, end='\\n\\n')\n",
        "\n",
        "# get values:\n",
        "print(soup.title.string, end='\\n\\n')\n",
        "\n",
        "# beginning navigation:\n",
        "print(soup.title.parent.name, end='\\n\\n')\n",
        "\n",
        "# getting specific values:\n",
        "print(soup.p, end='\\n\\n')"
      ],
      "execution_count": null,
      "outputs": [
        {
          "output_type": "stream",
          "text": [
            "<title>Selección de fútbol del Perú - Wikipedia, la enciclopedia libre</title>\n",
            "\n",
            "title\n",
            "\n",
            "Selección de fútbol del Perú - Wikipedia, la enciclopedia libre\n",
            "\n",
            "head\n",
            "\n",
            "<p>La <b>selección de fútbol del <a href=\"/wiki/Per%C3%BA\" title=\"Perú\">Perú</a></b> es el equipo representativo de dicho país en las competiciones oficiales de <a href=\"/wiki/F%C3%BAtbol\" title=\"Fútbol\">fútbol</a> <a href=\"/wiki/Var%C3%B3n\" title=\"Varón\">masculino</a>. Su organización está a cargo de la <a href=\"/wiki/Federaci%C3%B3n_Peruana_de_F%C3%BAtbol\" title=\"Federación Peruana de Fútbol\">Federación Peruana de Fútbol</a> (FPF), la cual es una de las diez federaciones miembro de la <a href=\"/wiki/Confederaci%C3%B3n_Sudamericana_de_F%C3%BAtbol\" title=\"Confederación Sudamericana de Fútbol\">Confederación Sudamericana de Fútbol (Conmebol)</a>. Su debut se produjo el <a href=\"/wiki/1_de_noviembre\" title=\"1 de noviembre\">1 de noviembre</a> de <a href=\"/wiki/1927\" title=\"1927\">1927</a> ante la selección de <a href=\"/wiki/Selecci%C3%B3n_de_f%C3%BAtbol_de_Uruguay\" title=\"Selección de fútbol de Uruguay\">Uruguay</a> en el <a href=\"/wiki/Campeonato_Sudamericano_1927\" title=\"Campeonato Sudamericano 1927\">Campeonato Sudamericano</a> de aquel año. La selección peruana juega la gran mayoría de sus partidos de local en el <a href=\"/wiki/Estadio_Nacional_del_Per%C3%BA\" title=\"Estadio Nacional del Perú\">Estadio Nacional del Perú</a>, ubicado en la capital, <a href=\"/wiki/Lima\" title=\"Lima\">Lima</a>. \n",
            "</p>\n",
            "\n"
          ],
          "name": "stdout"
        }
      ]
    },
    {
      "cell_type": "markdown",
      "metadata": {
        "id": "tk8whlbJtnSi",
        "colab_type": "text"
      },
      "source": [
        "\n",
        "## 3. Disenando el Web Scraper\n",
        "\n",
        "1. Identifiquemos la tabla objetivo: \"Ultimos Convocados\"\n",
        "2. Seleccionar la tabla objetivo - Tag name, XPath u otro\n",
        "3. Extraer nombres de columnas - Sólo **1** vez\n",
        "4. Extraer datos de cada fila - Iterar sobre las filas\n",
        "5. Guardar archivo en formato CSV (Comma Separated Values)\n"
      ]
    },
    {
      "cell_type": "markdown",
      "metadata": {
        "id": "RIFp8FRotoDM",
        "colab_type": "text"
      },
      "source": [
        "## 4. Implementación del Web Scraper\n"
      ]
    },
    {
      "cell_type": "code",
      "metadata": {
        "id": "Rhd6Aq9k10fd",
        "colab_type": "code",
        "colab": {}
      },
      "source": [
        "# XPath: /html/body/div[3]/div[3]/div[5]/div[1]/table[11]\n",
        "# CSS Selector: #mw-content-text > div.mw-parser-output > table:nth-child(146)"
      ],
      "execution_count": null,
      "outputs": []
    },
    {
      "cell_type": "code",
      "metadata": {
        "id": "t-KWWvlK2Xpb",
        "colab_type": "code",
        "colab": {}
      },
      "source": [
        "tables = soup.find_all('table')"
      ],
      "execution_count": null,
      "outputs": []
    },
    {
      "cell_type": "code",
      "metadata": {
        "id": "TVNCkyWAV96Z",
        "colab_type": "code",
        "colab": {
          "base_uri": "https://localhost:8080/",
          "height": 34
        },
        "outputId": "44e1607a-1391-477c-82ab-6cb094300871"
      },
      "source": [
        "type(tables)"
      ],
      "execution_count": null,
      "outputs": [
        {
          "output_type": "execute_result",
          "data": {
            "text/plain": [
              "bs4.element.ResultSet"
            ]
          },
          "metadata": {
            "tags": []
          },
          "execution_count": 7
        }
      ]
    },
    {
      "cell_type": "code",
      "metadata": {
        "id": "9f68YHUT2cR2",
        "colab_type": "code",
        "colab": {
          "base_uri": "https://localhost:8080/",
          "height": 34
        },
        "outputId": "a703f08b-17a8-45ee-f027-54ed6fc8cfd0"
      },
      "source": [
        "len(tables)"
      ],
      "execution_count": null,
      "outputs": [
        {
          "output_type": "execute_result",
          "data": {
            "text/plain": [
              "26"
            ]
          },
          "metadata": {
            "tags": []
          },
          "execution_count": 12
        }
      ]
    },
    {
      "cell_type": "code",
      "metadata": {
        "id": "LwAP6Kjg2fQp",
        "colab_type": "code",
        "colab": {
          "base_uri": "https://localhost:8080/",
          "height": 120
        },
        "outputId": "1c53523e-3272-4c6d-8099-2c8dfe162e2f"
      },
      "source": [
        "tables[12].text"
      ],
      "execution_count": null,
      "outputs": [
        {
          "output_type": "execute_result",
          "data": {
            "application/vnd.google.colaboratory.intrinsic+json": {
              "type": "string"
            },
            "text/plain": [
              "'\\n\\n\\n\\nNombre\\n\\nPos.\\n\\nEdad\\n\\nPJ\\n\\nGoles\\n\\nEquipo\\n\\nFormativo\\n\\n\\n1\\n\\nPedro Gallese\\n\\n\\n\\n30\\xa0años\\n\\n62\\n\\n-64\\n\\n Orlando City S.C.\\n\\n U. San Martín\\n\\n\\n12\\n\\nCarlos Cáceda\\n\\n\\n\\n28\\xa0años\\n\\n6\\n\\n -3\\n\\n F.B.C. Melgar\\n\\n Universitario\\n\\n\\n21\\n\\nPatricio Álvarez\\n\\n\\n\\n26\\xa0años\\n\\n0\\n\\n0\\n\\n Libre\\n\\n Universitario\\n\\n\\n2\\n\\nLuis Abram\\n\\n\\n\\n24\\xa0años\\n\\n20\\n\\n1\\n\\n Vélez Sarfield\\n\\n Regatas\\n\\n\\n3\\n\\nAldo Corzo\\n\\n\\n\\n31\\xa0años\\n\\n31\\n\\n0\\n\\n Universitario\\n\\n Regatas\\n\\n\\n4\\n\\nAnderson Santamaría\\n\\n\\n\\n28\\xa0años\\n\\n17\\n\\n0\\n\\n Atlas F.C.\\n\\n Deportivo Municipal\\n\\n\\n15\\n\\nCarlos Zambrano\\n\\n\\n\\n31\\xa0años\\n\\n50\\n\\n4\\n\\n Boca Juniors\\n\\n Schalke 04\\n\\n\\n6\\n\\nMiguel Trauco\\n\\n\\n\\n27 años\\n\\n50\\n\\n0\\n\\n A.S. Saint-Étienne\\n\\n Virgen de Chapi\\n\\n\\n15\\n\\nMarcos López\\n\\n\\n\\n20\\xa0años\\n\\n2\\n\\n0\\n\\n San Jose Earthquakes\\n\\n U. San Martín\\n\\n\\n17\\n\\nLuis Advíncula\\n\\n\\n\\n29 años\\n\\n89\\n\\n1\\n\\n Rayo Vallecano\\n\\n Esther Grande\\n\\n\\n22\\n\\nAlexander Callens\\n\\n\\n\\n28\\xa0años\\n\\n13\\n\\n1\\n\\n New York City F.C.\\n\\n Sport Boys\\n\\n\\n10\\n\\nSergio Peña\\n\\n\\n\\n24\\xa0años\\n\\n6\\n\\n0\\n\\n F.C. Emmen\\n\\n Alianza Lima\\n\\n\\n13\\n\\nRenato Tapia\\n\\n\\n\\n25\\xa0años\\n\\n53\\n\\n3\\n\\n Celta de Vigo\\n\\n Esther Grande\\n\\n\\n14\\n\\nCarlos Ascues\\n\\n\\n\\n28\\xa0años\\n\\n22\\n\\n5\\n\\n Alianza Lima\\n\\n Alianza Lima\\n\\n\\n16\\n\\nAlexis Arias\\n\\n\\n\\n23 años\\n\\n1\\n\\n0\\n\\n F.B.C. Melgar\\n\\n Sport Boys\\n\\n\\n19\\n\\nYoshimar Yotún\\n\\n\\n\\n30\\xa0años\\n\\n91\\n\\n3\\n\\n Cruz Azul\\n\\n Academia Cantolao\\n\\n\\n23\\n\\nPedro Aquino\\n\\n\\n\\n25\\xa0años\\n\\n20\\n\\n3\\n\\n Club León\\n\\n Sporting Cristal\\n\\n\\n24\\n\\nCristian Benavente\\n\\n\\n\\n26\\xa0años\\n\\n15\\n\\n2\\n\\n F. C. Nantes\\n\\n Real Madrid Castilla\\n\\n\\n7\\n\\nAndy Polo\\n\\n\\n\\n25\\xa0años\\n\\n19\\n\\n1\\n\\n Portland Timbers\\n\\n Universitario\\n\\n\\n8\\n\\nGabriel Costa\\n\\n\\n\\n30\\xa0años\\n\\n4\\n\\n0\\n\\n C.S.D. Colo-Colo\\n\\n River Plate\\n\\n\\n9\\n\\nPaolo Guerrero\\n\\n\\n\\n36\\xa0años\\n\\n101\\n\\n39\\n\\n S.C. Internacional\\n\\n Alianza Lima\\n\\n\\n11\\n\\nRaúl Ruidíaz\\n\\n\\n\\n30\\xa0años\\n\\n42\\n\\n4\\n\\n Seattle Sounders\\n\\n Universitario\\n\\n\\n20\\n\\nEdison Flores\\n\\n\\n\\n26\\xa0años\\n\\n51\\n\\n13\\n\\n D.C. United\\n\\n Universitario\\n\\n\\n-\\n\\n Ricardo Gareca\\n\\n\\n\\n62\\xa0años\\n\\n67 PD\\n\\n86 GF - 70 GC\\n\\n-\\n'"
            ]
          },
          "metadata": {
            "tags": []
          },
          "execution_count": 14
        }
      ]
    },
    {
      "cell_type": "code",
      "metadata": {
        "id": "Rf8MbZ4I2svR",
        "colab_type": "code",
        "colab": {}
      },
      "source": [
        "table_rows = tables[12].find_all('tr')"
      ],
      "execution_count": null,
      "outputs": []
    },
    {
      "cell_type": "code",
      "metadata": {
        "id": "yTkOwyGt21a6",
        "colab_type": "code",
        "colab": {
          "base_uri": "https://localhost:8080/",
          "height": 34
        },
        "outputId": "f73e4409-5cc2-47f1-d3ec-5bbd8c87a6e6"
      },
      "source": [
        "len(table_rows)"
      ],
      "execution_count": null,
      "outputs": [
        {
          "output_type": "execute_result",
          "data": {
            "text/plain": [
              "25"
            ]
          },
          "metadata": {
            "tags": []
          },
          "execution_count": 16
        }
      ]
    },
    {
      "cell_type": "code",
      "metadata": {
        "id": "jScvXe4P3Oeu",
        "colab_type": "code",
        "colab": {
          "base_uri": "https://localhost:8080/",
          "height": 34
        },
        "outputId": "b063c96e-1231-44f3-c6e1-96793c52dd7c"
      },
      "source": [
        "column_names = [th.text.strip('\\n') for th in table_rows[0].find_all('th')]\n",
        "column_names"
      ],
      "execution_count": null,
      "outputs": [
        {
          "output_type": "execute_result",
          "data": {
            "text/plain": [
              "['', 'Nombre', 'Pos.', 'Edad', 'PJ', 'Goles', 'Equipo', 'Formativo']"
            ]
          },
          "metadata": {
            "tags": []
          },
          "execution_count": 17
        }
      ]
    },
    {
      "cell_type": "code",
      "metadata": {
        "id": "7H4-O-3s5-A5",
        "colab_type": "code",
        "colab": {}
      },
      "source": [
        "column_names[0] = 'Num.'"
      ],
      "execution_count": null,
      "outputs": []
    },
    {
      "cell_type": "code",
      "metadata": {
        "id": "auCZLew8XwkI",
        "colab_type": "code",
        "colab": {
          "base_uri": "https://localhost:8080/",
          "height": 34
        },
        "outputId": "cc4a213e-a114-4e76-8392-c108694ca075"
      },
      "source": [
        "column_names"
      ],
      "execution_count": null,
      "outputs": [
        {
          "output_type": "execute_result",
          "data": {
            "text/plain": [
              "['Num.', 'Nombre', 'Pos.', 'Edad', 'PJ', 'Goles', 'Equipo', 'Formativo']"
            ]
          },
          "metadata": {
            "tags": []
          },
          "execution_count": 19
        }
      ]
    },
    {
      "cell_type": "code",
      "metadata": {
        "id": "n1zrG3Ds3_by",
        "colab_type": "code",
        "colab": {
          "base_uri": "https://localhost:8080/",
          "height": 799
        },
        "outputId": "eb7f1674-3018-4dc2-cfbe-fea57cb532d1"
      },
      "source": [
        "# Extraer datos de la tabla\n",
        "data = []\n",
        "\n",
        "# Iterar sobre cada fila\n",
        "for tr in table_rows[1:-1]:\n",
        "  row_data = []\n",
        "\n",
        "  # Valor especial numero de camiseta\n",
        "  num = tr.find('th').text.strip('\\n')\n",
        "  row_data.append(num)\n",
        "\n",
        "  # Extraer los demas valores de la fila\n",
        "  for td in tr.find_all('td'):\n",
        "    value = td.text.strip('\\n')\n",
        "\n",
        "    # Valor especial de posicion de la cancha (img (href) dentro de un enlace (a))\n",
        "    if value == '':\n",
        "      value = td.find('a')['href']\n",
        "\n",
        "    row_data.append(value)\n",
        "\n",
        "  # Almacenar los datos de la fila\n",
        "  print(row_data, end='\\n\\n')\n",
        "  data.append(row_data)"
      ],
      "execution_count": null,
      "outputs": [
        {
          "output_type": "stream",
          "text": [
            "['1', 'Pedro Gallese', '/wiki/Archivo:FootballPositionGK_es.png', '30\\xa0años', '62', '-64', ' Orlando City S.C.', ' U. San Martín']\n",
            "\n",
            "['12', 'Carlos Cáceda', '/wiki/Archivo:FootballPositionGK_es.png', '28\\xa0años', '6', ' -3', ' F.B.C. Melgar', ' Universitario']\n",
            "\n",
            "['21', 'Patricio Álvarez', '/wiki/Archivo:FootballPositionGK_es.png', '26\\xa0años', '0', '0', ' Libre', ' Universitario']\n",
            "\n",
            "['2', 'Luis Abram', '/wiki/Archivo:FootballPositionCT_es.png', '24\\xa0años', '20', '1', ' Vélez Sarfield', ' Regatas']\n",
            "\n",
            "['3', 'Aldo Corzo', '/wiki/Archivo:FootballPositionCT_es.png', '31\\xa0años', '31', '0', ' Universitario', ' Regatas']\n",
            "\n",
            "['4', 'Anderson Santamaría', '/wiki/Archivo:FootballPositionCT_es.png', '28\\xa0años', '17', '0', ' Atlas F.C.', ' Deportivo Municipal']\n",
            "\n",
            "['15', 'Carlos Zambrano', '/wiki/Archivo:FootballPositionCT_es.png', '31\\xa0años', '50', '4', ' Boca Juniors', ' Schalke 04']\n",
            "\n",
            "['6', 'Miguel Trauco', '/wiki/Archivo:FootballPositionCT_es.png', '27 años', '50', '0', ' A.S. Saint-Étienne', ' Virgen de Chapi']\n",
            "\n",
            "['15', 'Marcos López', '/wiki/Archivo:FootballPositionCT_es.png', '20\\xa0años', '2', '0', ' San Jose Earthquakes', ' U. San Martín']\n",
            "\n",
            "['17', 'Luis Advíncula', '/wiki/Archivo:FootballPositionCT_es.png', '29 años', '89', '1', ' Rayo Vallecano', ' Esther Grande']\n",
            "\n",
            "['22', 'Alexander Callens', '/wiki/Archivo:FootballPositionCT_es.png', '28\\xa0años', '13', '1', ' New York City F.C.', ' Sport Boys']\n",
            "\n",
            "['10', 'Sergio Peña', '/wiki/Archivo:FootballPositionMID_es.png', '24\\xa0años', '6', '0', ' F.C. Emmen', ' Alianza Lima']\n",
            "\n",
            "['13', 'Renato Tapia', '/wiki/Archivo:FootballPositionMID_es.png', '25\\xa0años', '53', '3', ' Celta de Vigo', ' Esther Grande']\n",
            "\n",
            "['14', 'Carlos Ascues', '/wiki/Archivo:FootballPositionMID_es.png', '28\\xa0años', '22', '5', ' Alianza Lima', ' Alianza Lima']\n",
            "\n",
            "['16', 'Alexis Arias', '/wiki/Archivo:FootballPositionMID_es.png', '23 años', '1', '0', ' F.B.C. Melgar', ' Sport Boys']\n",
            "\n",
            "['19', 'Yoshimar Yotún', '/wiki/Archivo:FootballPositionMID_es.png', '30\\xa0años', '91', '3', ' Cruz Azul', ' Academia Cantolao']\n",
            "\n",
            "['23', 'Pedro Aquino', '/wiki/Archivo:FootballPositionMID_es.png', '25\\xa0años', '20', '3', ' Club León', ' Sporting Cristal']\n",
            "\n",
            "['24', 'Cristian Benavente', '/wiki/Archivo:FootballPositionMID_es.png', '26\\xa0años', '15', '2', ' F. C. Nantes', ' Real Madrid Castilla']\n",
            "\n",
            "['7', 'Andy Polo', '/wiki/Archivo:FootballPositionFWD_es.png', '25\\xa0años', '19', '1', ' Portland Timbers', ' Universitario']\n",
            "\n",
            "['8', 'Gabriel Costa', '/wiki/Archivo:FootballPositionFWD_es.png', '30\\xa0años', '4', '0', ' C.S.D. Colo-Colo', ' River Plate']\n",
            "\n",
            "['9', 'Paolo Guerrero', '/wiki/Archivo:FootballPositionFWD_es.png', '36\\xa0años', '101', '39', ' S.C. Internacional', ' Alianza Lima']\n",
            "\n",
            "['11', 'Raúl Ruidíaz', '/wiki/Archivo:FootballPositionFWD_es.png', '30\\xa0años', '42', '4', ' Seattle Sounders', ' Universitario']\n",
            "\n",
            "['20', 'Edison Flores', '/wiki/Archivo:FootballPositionFWD_es.png', '26\\xa0años', '51', '13', ' D.C. United', ' Universitario']\n",
            "\n"
          ],
          "name": "stdout"
        }
      ]
    },
    {
      "cell_type": "code",
      "metadata": {
        "id": "6ucNf1fWamT3",
        "colab_type": "code",
        "colab": {
          "base_uri": "https://localhost:8080/",
          "height": 1000
        },
        "outputId": "b5d5a612-1363-43e8-f6bb-633f52c8dbf8"
      },
      "source": [
        "data"
      ],
      "execution_count": null,
      "outputs": [
        {
          "output_type": "execute_result",
          "data": {
            "text/plain": [
              "[['1',\n",
              "  'Pedro Gallese',\n",
              "  '/wiki/Archivo:FootballPositionGK_es.png',\n",
              "  '30\\xa0años',\n",
              "  '62',\n",
              "  '-64',\n",
              "  ' Orlando City S.C.',\n",
              "  ' U. San Martín'],\n",
              " ['12',\n",
              "  'Carlos Cáceda',\n",
              "  '/wiki/Archivo:FootballPositionGK_es.png',\n",
              "  '28\\xa0años',\n",
              "  '6',\n",
              "  ' -3',\n",
              "  ' F.B.C. Melgar',\n",
              "  ' Universitario'],\n",
              " ['21',\n",
              "  'Patricio Álvarez',\n",
              "  '/wiki/Archivo:FootballPositionGK_es.png',\n",
              "  '26\\xa0años',\n",
              "  '0',\n",
              "  '0',\n",
              "  ' Libre',\n",
              "  ' Universitario'],\n",
              " ['2',\n",
              "  'Luis Abram',\n",
              "  '/wiki/Archivo:FootballPositionCT_es.png',\n",
              "  '24\\xa0años',\n",
              "  '20',\n",
              "  '1',\n",
              "  ' Vélez Sarfield',\n",
              "  ' Regatas'],\n",
              " ['3',\n",
              "  'Aldo Corzo',\n",
              "  '/wiki/Archivo:FootballPositionCT_es.png',\n",
              "  '31\\xa0años',\n",
              "  '31',\n",
              "  '0',\n",
              "  ' Universitario',\n",
              "  ' Regatas'],\n",
              " ['4',\n",
              "  'Anderson Santamaría',\n",
              "  '/wiki/Archivo:FootballPositionCT_es.png',\n",
              "  '28\\xa0años',\n",
              "  '17',\n",
              "  '0',\n",
              "  ' Atlas F.C.',\n",
              "  ' Deportivo Municipal'],\n",
              " ['15',\n",
              "  'Carlos Zambrano',\n",
              "  '/wiki/Archivo:FootballPositionCT_es.png',\n",
              "  '31\\xa0años',\n",
              "  '50',\n",
              "  '4',\n",
              "  ' Boca Juniors',\n",
              "  ' Schalke 04'],\n",
              " ['6',\n",
              "  'Miguel Trauco',\n",
              "  '/wiki/Archivo:FootballPositionCT_es.png',\n",
              "  '27 años',\n",
              "  '50',\n",
              "  '0',\n",
              "  ' A.S. Saint-Étienne',\n",
              "  ' Virgen de Chapi'],\n",
              " ['15',\n",
              "  'Marcos López',\n",
              "  '/wiki/Archivo:FootballPositionCT_es.png',\n",
              "  '20\\xa0años',\n",
              "  '2',\n",
              "  '0',\n",
              "  ' San Jose Earthquakes',\n",
              "  ' U. San Martín'],\n",
              " ['17',\n",
              "  'Luis Advíncula',\n",
              "  '/wiki/Archivo:FootballPositionCT_es.png',\n",
              "  '29 años',\n",
              "  '89',\n",
              "  '1',\n",
              "  ' Rayo Vallecano',\n",
              "  ' Esther Grande'],\n",
              " ['22',\n",
              "  'Alexander Callens',\n",
              "  '/wiki/Archivo:FootballPositionCT_es.png',\n",
              "  '28\\xa0años',\n",
              "  '13',\n",
              "  '1',\n",
              "  ' New York City F.C.',\n",
              "  ' Sport Boys'],\n",
              " ['10',\n",
              "  'Sergio Peña',\n",
              "  '/wiki/Archivo:FootballPositionMID_es.png',\n",
              "  '24\\xa0años',\n",
              "  '6',\n",
              "  '0',\n",
              "  ' F.C. Emmen',\n",
              "  ' Alianza Lima'],\n",
              " ['13',\n",
              "  'Renato Tapia',\n",
              "  '/wiki/Archivo:FootballPositionMID_es.png',\n",
              "  '25\\xa0años',\n",
              "  '53',\n",
              "  '3',\n",
              "  ' Celta de Vigo',\n",
              "  ' Esther Grande'],\n",
              " ['14',\n",
              "  'Carlos Ascues',\n",
              "  '/wiki/Archivo:FootballPositionMID_es.png',\n",
              "  '28\\xa0años',\n",
              "  '22',\n",
              "  '5',\n",
              "  ' Alianza Lima',\n",
              "  ' Alianza Lima'],\n",
              " ['16',\n",
              "  'Alexis Arias',\n",
              "  '/wiki/Archivo:FootballPositionMID_es.png',\n",
              "  '23 años',\n",
              "  '1',\n",
              "  '0',\n",
              "  ' F.B.C. Melgar',\n",
              "  ' Sport Boys'],\n",
              " ['19',\n",
              "  'Yoshimar Yotún',\n",
              "  '/wiki/Archivo:FootballPositionMID_es.png',\n",
              "  '30\\xa0años',\n",
              "  '91',\n",
              "  '3',\n",
              "  ' Cruz Azul',\n",
              "  ' Academia Cantolao'],\n",
              " ['23',\n",
              "  'Pedro Aquino',\n",
              "  '/wiki/Archivo:FootballPositionMID_es.png',\n",
              "  '25\\xa0años',\n",
              "  '20',\n",
              "  '3',\n",
              "  ' Club León',\n",
              "  ' Sporting Cristal'],\n",
              " ['24',\n",
              "  'Cristian Benavente',\n",
              "  '/wiki/Archivo:FootballPositionMID_es.png',\n",
              "  '26\\xa0años',\n",
              "  '15',\n",
              "  '2',\n",
              "  ' F. C. Nantes',\n",
              "  ' Real Madrid Castilla'],\n",
              " ['7',\n",
              "  'Andy Polo',\n",
              "  '/wiki/Archivo:FootballPositionFWD_es.png',\n",
              "  '25\\xa0años',\n",
              "  '19',\n",
              "  '1',\n",
              "  ' Portland Timbers',\n",
              "  ' Universitario'],\n",
              " ['8',\n",
              "  'Gabriel Costa',\n",
              "  '/wiki/Archivo:FootballPositionFWD_es.png',\n",
              "  '30\\xa0años',\n",
              "  '4',\n",
              "  '0',\n",
              "  ' C.S.D. Colo-Colo',\n",
              "  ' River Plate'],\n",
              " ['9',\n",
              "  'Paolo Guerrero',\n",
              "  '/wiki/Archivo:FootballPositionFWD_es.png',\n",
              "  '36\\xa0años',\n",
              "  '101',\n",
              "  '39',\n",
              "  ' S.C. Internacional',\n",
              "  ' Alianza Lima'],\n",
              " ['11',\n",
              "  'Raúl Ruidíaz',\n",
              "  '/wiki/Archivo:FootballPositionFWD_es.png',\n",
              "  '30\\xa0años',\n",
              "  '42',\n",
              "  '4',\n",
              "  ' Seattle Sounders',\n",
              "  ' Universitario'],\n",
              " ['20',\n",
              "  'Edison Flores',\n",
              "  '/wiki/Archivo:FootballPositionFWD_es.png',\n",
              "  '26\\xa0años',\n",
              "  '51',\n",
              "  '13',\n",
              "  ' D.C. United',\n",
              "  ' Universitario']]"
            ]
          },
          "metadata": {
            "tags": []
          },
          "execution_count": 26
        }
      ]
    },
    {
      "cell_type": "code",
      "metadata": {
        "id": "1HCjenQ_5zW1",
        "colab_type": "code",
        "colab": {}
      },
      "source": [
        "# Creamos un DataFrame / Tabla de datos\n",
        "convocados_peru_df = pd.DataFrame(data, columns=column_names)"
      ],
      "execution_count": null,
      "outputs": []
    },
    {
      "cell_type": "code",
      "metadata": {
        "id": "0PA_Ace46T6D",
        "colab_type": "code",
        "colab": {
          "base_uri": "https://localhost:8080/",
          "height": 762
        },
        "outputId": "28d7d404-ab24-461d-f3ff-be8f4b9ef1a6"
      },
      "source": [
        "# Veamos la tabla de datos extraídos\n",
        "convocados_peru_df"
      ],
      "execution_count": null,
      "outputs": [
        {
          "output_type": "execute_result",
          "data": {
            "text/html": [
              "<div>\n",
              "<style scoped>\n",
              "    .dataframe tbody tr th:only-of-type {\n",
              "        vertical-align: middle;\n",
              "    }\n",
              "\n",
              "    .dataframe tbody tr th {\n",
              "        vertical-align: top;\n",
              "    }\n",
              "\n",
              "    .dataframe thead th {\n",
              "        text-align: right;\n",
              "    }\n",
              "</style>\n",
              "<table border=\"1\" class=\"dataframe\">\n",
              "  <thead>\n",
              "    <tr style=\"text-align: right;\">\n",
              "      <th></th>\n",
              "      <th>Num.</th>\n",
              "      <th>Nombre</th>\n",
              "      <th>Pos.</th>\n",
              "      <th>Edad</th>\n",
              "      <th>PJ</th>\n",
              "      <th>Goles</th>\n",
              "      <th>Equipo</th>\n",
              "      <th>Formativo</th>\n",
              "    </tr>\n",
              "  </thead>\n",
              "  <tbody>\n",
              "    <tr>\n",
              "      <th>0</th>\n",
              "      <td>1</td>\n",
              "      <td>Pedro Gallese</td>\n",
              "      <td>/wiki/Archivo:FootballPositionGK_es.png</td>\n",
              "      <td>30 años</td>\n",
              "      <td>62</td>\n",
              "      <td>-64</td>\n",
              "      <td>Orlando City S.C.</td>\n",
              "      <td>U. San Martín</td>\n",
              "    </tr>\n",
              "    <tr>\n",
              "      <th>1</th>\n",
              "      <td>12</td>\n",
              "      <td>Carlos Cáceda</td>\n",
              "      <td>/wiki/Archivo:FootballPositionGK_es.png</td>\n",
              "      <td>28 años</td>\n",
              "      <td>6</td>\n",
              "      <td>-3</td>\n",
              "      <td>F.B.C. Melgar</td>\n",
              "      <td>Universitario</td>\n",
              "    </tr>\n",
              "    <tr>\n",
              "      <th>2</th>\n",
              "      <td>21</td>\n",
              "      <td>Patricio Álvarez</td>\n",
              "      <td>/wiki/Archivo:FootballPositionGK_es.png</td>\n",
              "      <td>26 años</td>\n",
              "      <td>0</td>\n",
              "      <td>0</td>\n",
              "      <td>Libre</td>\n",
              "      <td>Universitario</td>\n",
              "    </tr>\n",
              "    <tr>\n",
              "      <th>3</th>\n",
              "      <td>2</td>\n",
              "      <td>Luis Abram</td>\n",
              "      <td>/wiki/Archivo:FootballPositionCT_es.png</td>\n",
              "      <td>24 años</td>\n",
              "      <td>20</td>\n",
              "      <td>1</td>\n",
              "      <td>Vélez Sarfield</td>\n",
              "      <td>Regatas</td>\n",
              "    </tr>\n",
              "    <tr>\n",
              "      <th>4</th>\n",
              "      <td>3</td>\n",
              "      <td>Aldo Corzo</td>\n",
              "      <td>/wiki/Archivo:FootballPositionCT_es.png</td>\n",
              "      <td>31 años</td>\n",
              "      <td>31</td>\n",
              "      <td>0</td>\n",
              "      <td>Universitario</td>\n",
              "      <td>Regatas</td>\n",
              "    </tr>\n",
              "    <tr>\n",
              "      <th>5</th>\n",
              "      <td>4</td>\n",
              "      <td>Anderson Santamaría</td>\n",
              "      <td>/wiki/Archivo:FootballPositionCT_es.png</td>\n",
              "      <td>28 años</td>\n",
              "      <td>17</td>\n",
              "      <td>0</td>\n",
              "      <td>Atlas F.C.</td>\n",
              "      <td>Deportivo Municipal</td>\n",
              "    </tr>\n",
              "    <tr>\n",
              "      <th>6</th>\n",
              "      <td>15</td>\n",
              "      <td>Carlos Zambrano</td>\n",
              "      <td>/wiki/Archivo:FootballPositionCT_es.png</td>\n",
              "      <td>31 años</td>\n",
              "      <td>50</td>\n",
              "      <td>4</td>\n",
              "      <td>Boca Juniors</td>\n",
              "      <td>Schalke 04</td>\n",
              "    </tr>\n",
              "    <tr>\n",
              "      <th>7</th>\n",
              "      <td>6</td>\n",
              "      <td>Miguel Trauco</td>\n",
              "      <td>/wiki/Archivo:FootballPositionCT_es.png</td>\n",
              "      <td>27 años</td>\n",
              "      <td>50</td>\n",
              "      <td>0</td>\n",
              "      <td>A.S. Saint-Étienne</td>\n",
              "      <td>Virgen de Chapi</td>\n",
              "    </tr>\n",
              "    <tr>\n",
              "      <th>8</th>\n",
              "      <td>15</td>\n",
              "      <td>Marcos López</td>\n",
              "      <td>/wiki/Archivo:FootballPositionCT_es.png</td>\n",
              "      <td>20 años</td>\n",
              "      <td>2</td>\n",
              "      <td>0</td>\n",
              "      <td>San Jose Earthquakes</td>\n",
              "      <td>U. San Martín</td>\n",
              "    </tr>\n",
              "    <tr>\n",
              "      <th>9</th>\n",
              "      <td>17</td>\n",
              "      <td>Luis Advíncula</td>\n",
              "      <td>/wiki/Archivo:FootballPositionCT_es.png</td>\n",
              "      <td>29 años</td>\n",
              "      <td>89</td>\n",
              "      <td>1</td>\n",
              "      <td>Rayo Vallecano</td>\n",
              "      <td>Esther Grande</td>\n",
              "    </tr>\n",
              "    <tr>\n",
              "      <th>10</th>\n",
              "      <td>22</td>\n",
              "      <td>Alexander Callens</td>\n",
              "      <td>/wiki/Archivo:FootballPositionCT_es.png</td>\n",
              "      <td>28 años</td>\n",
              "      <td>13</td>\n",
              "      <td>1</td>\n",
              "      <td>New York City F.C.</td>\n",
              "      <td>Sport Boys</td>\n",
              "    </tr>\n",
              "    <tr>\n",
              "      <th>11</th>\n",
              "      <td>10</td>\n",
              "      <td>Sergio Peña</td>\n",
              "      <td>/wiki/Archivo:FootballPositionMID_es.png</td>\n",
              "      <td>24 años</td>\n",
              "      <td>6</td>\n",
              "      <td>0</td>\n",
              "      <td>F.C. Emmen</td>\n",
              "      <td>Alianza Lima</td>\n",
              "    </tr>\n",
              "    <tr>\n",
              "      <th>12</th>\n",
              "      <td>13</td>\n",
              "      <td>Renato Tapia</td>\n",
              "      <td>/wiki/Archivo:FootballPositionMID_es.png</td>\n",
              "      <td>25 años</td>\n",
              "      <td>53</td>\n",
              "      <td>3</td>\n",
              "      <td>Celta de Vigo</td>\n",
              "      <td>Esther Grande</td>\n",
              "    </tr>\n",
              "    <tr>\n",
              "      <th>13</th>\n",
              "      <td>14</td>\n",
              "      <td>Carlos Ascues</td>\n",
              "      <td>/wiki/Archivo:FootballPositionMID_es.png</td>\n",
              "      <td>28 años</td>\n",
              "      <td>22</td>\n",
              "      <td>5</td>\n",
              "      <td>Alianza Lima</td>\n",
              "      <td>Alianza Lima</td>\n",
              "    </tr>\n",
              "    <tr>\n",
              "      <th>14</th>\n",
              "      <td>16</td>\n",
              "      <td>Alexis Arias</td>\n",
              "      <td>/wiki/Archivo:FootballPositionMID_es.png</td>\n",
              "      <td>23 años</td>\n",
              "      <td>1</td>\n",
              "      <td>0</td>\n",
              "      <td>F.B.C. Melgar</td>\n",
              "      <td>Sport Boys</td>\n",
              "    </tr>\n",
              "    <tr>\n",
              "      <th>15</th>\n",
              "      <td>19</td>\n",
              "      <td>Yoshimar Yotún</td>\n",
              "      <td>/wiki/Archivo:FootballPositionMID_es.png</td>\n",
              "      <td>30 años</td>\n",
              "      <td>91</td>\n",
              "      <td>3</td>\n",
              "      <td>Cruz Azul</td>\n",
              "      <td>Academia Cantolao</td>\n",
              "    </tr>\n",
              "    <tr>\n",
              "      <th>16</th>\n",
              "      <td>23</td>\n",
              "      <td>Pedro Aquino</td>\n",
              "      <td>/wiki/Archivo:FootballPositionMID_es.png</td>\n",
              "      <td>25 años</td>\n",
              "      <td>20</td>\n",
              "      <td>3</td>\n",
              "      <td>Club León</td>\n",
              "      <td>Sporting Cristal</td>\n",
              "    </tr>\n",
              "    <tr>\n",
              "      <th>17</th>\n",
              "      <td>24</td>\n",
              "      <td>Cristian Benavente</td>\n",
              "      <td>/wiki/Archivo:FootballPositionMID_es.png</td>\n",
              "      <td>26 años</td>\n",
              "      <td>15</td>\n",
              "      <td>2</td>\n",
              "      <td>F. C. Nantes</td>\n",
              "      <td>Real Madrid Castilla</td>\n",
              "    </tr>\n",
              "    <tr>\n",
              "      <th>18</th>\n",
              "      <td>7</td>\n",
              "      <td>Andy Polo</td>\n",
              "      <td>/wiki/Archivo:FootballPositionFWD_es.png</td>\n",
              "      <td>25 años</td>\n",
              "      <td>19</td>\n",
              "      <td>1</td>\n",
              "      <td>Portland Timbers</td>\n",
              "      <td>Universitario</td>\n",
              "    </tr>\n",
              "    <tr>\n",
              "      <th>19</th>\n",
              "      <td>8</td>\n",
              "      <td>Gabriel Costa</td>\n",
              "      <td>/wiki/Archivo:FootballPositionFWD_es.png</td>\n",
              "      <td>30 años</td>\n",
              "      <td>4</td>\n",
              "      <td>0</td>\n",
              "      <td>C.S.D. Colo-Colo</td>\n",
              "      <td>River Plate</td>\n",
              "    </tr>\n",
              "    <tr>\n",
              "      <th>20</th>\n",
              "      <td>9</td>\n",
              "      <td>Paolo Guerrero</td>\n",
              "      <td>/wiki/Archivo:FootballPositionFWD_es.png</td>\n",
              "      <td>36 años</td>\n",
              "      <td>101</td>\n",
              "      <td>39</td>\n",
              "      <td>S.C. Internacional</td>\n",
              "      <td>Alianza Lima</td>\n",
              "    </tr>\n",
              "    <tr>\n",
              "      <th>21</th>\n",
              "      <td>11</td>\n",
              "      <td>Raúl Ruidíaz</td>\n",
              "      <td>/wiki/Archivo:FootballPositionFWD_es.png</td>\n",
              "      <td>30 años</td>\n",
              "      <td>42</td>\n",
              "      <td>4</td>\n",
              "      <td>Seattle Sounders</td>\n",
              "      <td>Universitario</td>\n",
              "    </tr>\n",
              "    <tr>\n",
              "      <th>22</th>\n",
              "      <td>20</td>\n",
              "      <td>Edison Flores</td>\n",
              "      <td>/wiki/Archivo:FootballPositionFWD_es.png</td>\n",
              "      <td>26 años</td>\n",
              "      <td>51</td>\n",
              "      <td>13</td>\n",
              "      <td>D.C. United</td>\n",
              "      <td>Universitario</td>\n",
              "    </tr>\n",
              "  </tbody>\n",
              "</table>\n",
              "</div>"
            ],
            "text/plain": [
              "   Num.               Nombre  ...                 Equipo              Formativo\n",
              "0     1        Pedro Gallese  ...      Orlando City S.C.          U. San Martín\n",
              "1    12        Carlos Cáceda  ...          F.B.C. Melgar          Universitario\n",
              "2    21     Patricio Álvarez  ...                  Libre          Universitario\n",
              "3     2           Luis Abram  ...         Vélez Sarfield                Regatas\n",
              "4     3           Aldo Corzo  ...          Universitario                Regatas\n",
              "5     4  Anderson Santamaría  ...             Atlas F.C.    Deportivo Municipal\n",
              "6    15      Carlos Zambrano  ...           Boca Juniors             Schalke 04\n",
              "7     6        Miguel Trauco  ...     A.S. Saint-Étienne        Virgen de Chapi\n",
              "8    15         Marcos López  ...   San Jose Earthquakes          U. San Martín\n",
              "9    17       Luis Advíncula  ...         Rayo Vallecano          Esther Grande\n",
              "10   22    Alexander Callens  ...     New York City F.C.             Sport Boys\n",
              "11   10          Sergio Peña  ...             F.C. Emmen           Alianza Lima\n",
              "12   13         Renato Tapia  ...          Celta de Vigo          Esther Grande\n",
              "13   14        Carlos Ascues  ...           Alianza Lima           Alianza Lima\n",
              "14   16         Alexis Arias  ...          F.B.C. Melgar             Sport Boys\n",
              "15   19       Yoshimar Yotún  ...              Cruz Azul      Academia Cantolao\n",
              "16   23         Pedro Aquino  ...              Club León       Sporting Cristal\n",
              "17   24   Cristian Benavente  ...           F. C. Nantes   Real Madrid Castilla\n",
              "18    7            Andy Polo  ...       Portland Timbers          Universitario\n",
              "19    8        Gabriel Costa  ...       C.S.D. Colo-Colo            River Plate\n",
              "20    9       Paolo Guerrero  ...     S.C. Internacional           Alianza Lima\n",
              "21   11         Raúl Ruidíaz  ...       Seattle Sounders          Universitario\n",
              "22   20        Edison Flores  ...            D.C. United          Universitario\n",
              "\n",
              "[23 rows x 8 columns]"
            ]
          },
          "metadata": {
            "tags": []
          },
          "execution_count": 28
        }
      ]
    },
    {
      "cell_type": "code",
      "metadata": {
        "id": "EqMa0AO4auWf",
        "colab_type": "code",
        "colab": {}
      },
      "source": [
        "valores_posicion = {\n",
        "  '/wiki/Archivo:FootballPositionGK_es.png': 'Arquero',\n",
        "  '/wiki/Archivo:FootballPositionCT_es.png': 'Defensa',\n",
        "  '/wiki/Archivo:FootballPositionMID_es.png': 'Volante',\n",
        "  '/wiki/Archivo:FootballPositionFWD_es.png': 'Delantero'\n",
        "}"
      ],
      "execution_count": null,
      "outputs": []
    },
    {
      "cell_type": "code",
      "metadata": {
        "id": "u1pjVhP2bJRb",
        "colab_type": "code",
        "colab": {}
      },
      "source": [
        "convocados_peru_df['Pos.'] = convocados_peru_df['Pos.'].replace(valores_posicion)"
      ],
      "execution_count": null,
      "outputs": []
    },
    {
      "cell_type": "code",
      "metadata": {
        "id": "Q3IeWEY1bY7D",
        "colab_type": "code",
        "colab": {
          "base_uri": "https://localhost:8080/",
          "height": 762
        },
        "outputId": "cbecc68b-e898-4e73-e4ed-32e759696ef2"
      },
      "source": [
        "convocados_peru_df"
      ],
      "execution_count": null,
      "outputs": [
        {
          "output_type": "execute_result",
          "data": {
            "text/html": [
              "<div>\n",
              "<style scoped>\n",
              "    .dataframe tbody tr th:only-of-type {\n",
              "        vertical-align: middle;\n",
              "    }\n",
              "\n",
              "    .dataframe tbody tr th {\n",
              "        vertical-align: top;\n",
              "    }\n",
              "\n",
              "    .dataframe thead th {\n",
              "        text-align: right;\n",
              "    }\n",
              "</style>\n",
              "<table border=\"1\" class=\"dataframe\">\n",
              "  <thead>\n",
              "    <tr style=\"text-align: right;\">\n",
              "      <th></th>\n",
              "      <th>Num.</th>\n",
              "      <th>Nombre</th>\n",
              "      <th>Pos.</th>\n",
              "      <th>Edad</th>\n",
              "      <th>PJ</th>\n",
              "      <th>Goles</th>\n",
              "      <th>Equipo</th>\n",
              "      <th>Formativo</th>\n",
              "    </tr>\n",
              "  </thead>\n",
              "  <tbody>\n",
              "    <tr>\n",
              "      <th>0</th>\n",
              "      <td>1</td>\n",
              "      <td>Pedro Gallese</td>\n",
              "      <td>Arquero</td>\n",
              "      <td>30 años</td>\n",
              "      <td>62</td>\n",
              "      <td>-64</td>\n",
              "      <td>Orlando City S.C.</td>\n",
              "      <td>U. San Martín</td>\n",
              "    </tr>\n",
              "    <tr>\n",
              "      <th>1</th>\n",
              "      <td>12</td>\n",
              "      <td>Carlos Cáceda</td>\n",
              "      <td>Arquero</td>\n",
              "      <td>28 años</td>\n",
              "      <td>6</td>\n",
              "      <td>-3</td>\n",
              "      <td>F.B.C. Melgar</td>\n",
              "      <td>Universitario</td>\n",
              "    </tr>\n",
              "    <tr>\n",
              "      <th>2</th>\n",
              "      <td>21</td>\n",
              "      <td>Patricio Álvarez</td>\n",
              "      <td>Arquero</td>\n",
              "      <td>26 años</td>\n",
              "      <td>0</td>\n",
              "      <td>0</td>\n",
              "      <td>Libre</td>\n",
              "      <td>Universitario</td>\n",
              "    </tr>\n",
              "    <tr>\n",
              "      <th>3</th>\n",
              "      <td>2</td>\n",
              "      <td>Luis Abram</td>\n",
              "      <td>Defensa</td>\n",
              "      <td>24 años</td>\n",
              "      <td>20</td>\n",
              "      <td>1</td>\n",
              "      <td>Vélez Sarfield</td>\n",
              "      <td>Regatas</td>\n",
              "    </tr>\n",
              "    <tr>\n",
              "      <th>4</th>\n",
              "      <td>3</td>\n",
              "      <td>Aldo Corzo</td>\n",
              "      <td>Defensa</td>\n",
              "      <td>31 años</td>\n",
              "      <td>31</td>\n",
              "      <td>0</td>\n",
              "      <td>Universitario</td>\n",
              "      <td>Regatas</td>\n",
              "    </tr>\n",
              "    <tr>\n",
              "      <th>5</th>\n",
              "      <td>4</td>\n",
              "      <td>Anderson Santamaría</td>\n",
              "      <td>Defensa</td>\n",
              "      <td>28 años</td>\n",
              "      <td>17</td>\n",
              "      <td>0</td>\n",
              "      <td>Atlas F.C.</td>\n",
              "      <td>Deportivo Municipal</td>\n",
              "    </tr>\n",
              "    <tr>\n",
              "      <th>6</th>\n",
              "      <td>15</td>\n",
              "      <td>Carlos Zambrano</td>\n",
              "      <td>Defensa</td>\n",
              "      <td>31 años</td>\n",
              "      <td>50</td>\n",
              "      <td>4</td>\n",
              "      <td>Boca Juniors</td>\n",
              "      <td>Schalke 04</td>\n",
              "    </tr>\n",
              "    <tr>\n",
              "      <th>7</th>\n",
              "      <td>6</td>\n",
              "      <td>Miguel Trauco</td>\n",
              "      <td>Defensa</td>\n",
              "      <td>27 años</td>\n",
              "      <td>50</td>\n",
              "      <td>0</td>\n",
              "      <td>A.S. Saint-Étienne</td>\n",
              "      <td>Virgen de Chapi</td>\n",
              "    </tr>\n",
              "    <tr>\n",
              "      <th>8</th>\n",
              "      <td>15</td>\n",
              "      <td>Marcos López</td>\n",
              "      <td>Defensa</td>\n",
              "      <td>20 años</td>\n",
              "      <td>2</td>\n",
              "      <td>0</td>\n",
              "      <td>San Jose Earthquakes</td>\n",
              "      <td>U. San Martín</td>\n",
              "    </tr>\n",
              "    <tr>\n",
              "      <th>9</th>\n",
              "      <td>17</td>\n",
              "      <td>Luis Advíncula</td>\n",
              "      <td>Defensa</td>\n",
              "      <td>29 años</td>\n",
              "      <td>89</td>\n",
              "      <td>1</td>\n",
              "      <td>Rayo Vallecano</td>\n",
              "      <td>Esther Grande</td>\n",
              "    </tr>\n",
              "    <tr>\n",
              "      <th>10</th>\n",
              "      <td>22</td>\n",
              "      <td>Alexander Callens</td>\n",
              "      <td>Defensa</td>\n",
              "      <td>28 años</td>\n",
              "      <td>13</td>\n",
              "      <td>1</td>\n",
              "      <td>New York City F.C.</td>\n",
              "      <td>Sport Boys</td>\n",
              "    </tr>\n",
              "    <tr>\n",
              "      <th>11</th>\n",
              "      <td>10</td>\n",
              "      <td>Sergio Peña</td>\n",
              "      <td>Volante</td>\n",
              "      <td>24 años</td>\n",
              "      <td>6</td>\n",
              "      <td>0</td>\n",
              "      <td>F.C. Emmen</td>\n",
              "      <td>Alianza Lima</td>\n",
              "    </tr>\n",
              "    <tr>\n",
              "      <th>12</th>\n",
              "      <td>13</td>\n",
              "      <td>Renato Tapia</td>\n",
              "      <td>Volante</td>\n",
              "      <td>25 años</td>\n",
              "      <td>53</td>\n",
              "      <td>3</td>\n",
              "      <td>Celta de Vigo</td>\n",
              "      <td>Esther Grande</td>\n",
              "    </tr>\n",
              "    <tr>\n",
              "      <th>13</th>\n",
              "      <td>14</td>\n",
              "      <td>Carlos Ascues</td>\n",
              "      <td>Volante</td>\n",
              "      <td>28 años</td>\n",
              "      <td>22</td>\n",
              "      <td>5</td>\n",
              "      <td>Alianza Lima</td>\n",
              "      <td>Alianza Lima</td>\n",
              "    </tr>\n",
              "    <tr>\n",
              "      <th>14</th>\n",
              "      <td>16</td>\n",
              "      <td>Alexis Arias</td>\n",
              "      <td>Volante</td>\n",
              "      <td>23 años</td>\n",
              "      <td>1</td>\n",
              "      <td>0</td>\n",
              "      <td>F.B.C. Melgar</td>\n",
              "      <td>Sport Boys</td>\n",
              "    </tr>\n",
              "    <tr>\n",
              "      <th>15</th>\n",
              "      <td>19</td>\n",
              "      <td>Yoshimar Yotún</td>\n",
              "      <td>Volante</td>\n",
              "      <td>30 años</td>\n",
              "      <td>91</td>\n",
              "      <td>3</td>\n",
              "      <td>Cruz Azul</td>\n",
              "      <td>Academia Cantolao</td>\n",
              "    </tr>\n",
              "    <tr>\n",
              "      <th>16</th>\n",
              "      <td>23</td>\n",
              "      <td>Pedro Aquino</td>\n",
              "      <td>Volante</td>\n",
              "      <td>25 años</td>\n",
              "      <td>20</td>\n",
              "      <td>3</td>\n",
              "      <td>Club León</td>\n",
              "      <td>Sporting Cristal</td>\n",
              "    </tr>\n",
              "    <tr>\n",
              "      <th>17</th>\n",
              "      <td>24</td>\n",
              "      <td>Cristian Benavente</td>\n",
              "      <td>Volante</td>\n",
              "      <td>26 años</td>\n",
              "      <td>15</td>\n",
              "      <td>2</td>\n",
              "      <td>F. C. Nantes</td>\n",
              "      <td>Real Madrid Castilla</td>\n",
              "    </tr>\n",
              "    <tr>\n",
              "      <th>18</th>\n",
              "      <td>7</td>\n",
              "      <td>Andy Polo</td>\n",
              "      <td>Delantero</td>\n",
              "      <td>25 años</td>\n",
              "      <td>19</td>\n",
              "      <td>1</td>\n",
              "      <td>Portland Timbers</td>\n",
              "      <td>Universitario</td>\n",
              "    </tr>\n",
              "    <tr>\n",
              "      <th>19</th>\n",
              "      <td>8</td>\n",
              "      <td>Gabriel Costa</td>\n",
              "      <td>Delantero</td>\n",
              "      <td>30 años</td>\n",
              "      <td>4</td>\n",
              "      <td>0</td>\n",
              "      <td>C.S.D. Colo-Colo</td>\n",
              "      <td>River Plate</td>\n",
              "    </tr>\n",
              "    <tr>\n",
              "      <th>20</th>\n",
              "      <td>9</td>\n",
              "      <td>Paolo Guerrero</td>\n",
              "      <td>Delantero</td>\n",
              "      <td>36 años</td>\n",
              "      <td>101</td>\n",
              "      <td>39</td>\n",
              "      <td>S.C. Internacional</td>\n",
              "      <td>Alianza Lima</td>\n",
              "    </tr>\n",
              "    <tr>\n",
              "      <th>21</th>\n",
              "      <td>11</td>\n",
              "      <td>Raúl Ruidíaz</td>\n",
              "      <td>Delantero</td>\n",
              "      <td>30 años</td>\n",
              "      <td>42</td>\n",
              "      <td>4</td>\n",
              "      <td>Seattle Sounders</td>\n",
              "      <td>Universitario</td>\n",
              "    </tr>\n",
              "    <tr>\n",
              "      <th>22</th>\n",
              "      <td>20</td>\n",
              "      <td>Edison Flores</td>\n",
              "      <td>Delantero</td>\n",
              "      <td>26 años</td>\n",
              "      <td>51</td>\n",
              "      <td>13</td>\n",
              "      <td>D.C. United</td>\n",
              "      <td>Universitario</td>\n",
              "    </tr>\n",
              "  </tbody>\n",
              "</table>\n",
              "</div>"
            ],
            "text/plain": [
              "   Num.               Nombre  ...                 Equipo              Formativo\n",
              "0     1        Pedro Gallese  ...      Orlando City S.C.          U. San Martín\n",
              "1    12        Carlos Cáceda  ...          F.B.C. Melgar          Universitario\n",
              "2    21     Patricio Álvarez  ...                  Libre          Universitario\n",
              "3     2           Luis Abram  ...         Vélez Sarfield                Regatas\n",
              "4     3           Aldo Corzo  ...          Universitario                Regatas\n",
              "5     4  Anderson Santamaría  ...             Atlas F.C.    Deportivo Municipal\n",
              "6    15      Carlos Zambrano  ...           Boca Juniors             Schalke 04\n",
              "7     6        Miguel Trauco  ...     A.S. Saint-Étienne        Virgen de Chapi\n",
              "8    15         Marcos López  ...   San Jose Earthquakes          U. San Martín\n",
              "9    17       Luis Advíncula  ...         Rayo Vallecano          Esther Grande\n",
              "10   22    Alexander Callens  ...     New York City F.C.             Sport Boys\n",
              "11   10          Sergio Peña  ...             F.C. Emmen           Alianza Lima\n",
              "12   13         Renato Tapia  ...          Celta de Vigo          Esther Grande\n",
              "13   14        Carlos Ascues  ...           Alianza Lima           Alianza Lima\n",
              "14   16         Alexis Arias  ...          F.B.C. Melgar             Sport Boys\n",
              "15   19       Yoshimar Yotún  ...              Cruz Azul      Academia Cantolao\n",
              "16   23         Pedro Aquino  ...              Club León       Sporting Cristal\n",
              "17   24   Cristian Benavente  ...           F. C. Nantes   Real Madrid Castilla\n",
              "18    7            Andy Polo  ...       Portland Timbers          Universitario\n",
              "19    8        Gabriel Costa  ...       C.S.D. Colo-Colo            River Plate\n",
              "20    9       Paolo Guerrero  ...     S.C. Internacional           Alianza Lima\n",
              "21   11         Raúl Ruidíaz  ...       Seattle Sounders          Universitario\n",
              "22   20        Edison Flores  ...            D.C. United          Universitario\n",
              "\n",
              "[23 rows x 8 columns]"
            ]
          },
          "metadata": {
            "tags": []
          },
          "execution_count": 32
        }
      ]
    },
    {
      "cell_type": "code",
      "metadata": {
        "id": "KnY72VjPd9Ck",
        "colab_type": "code",
        "colab": {}
      },
      "source": [
        "convocados_peru_df.dtypes()"
      ],
      "execution_count": null,
      "outputs": []
    },
    {
      "cell_type": "code",
      "metadata": {
        "id": "kojTIOAycg_W",
        "colab_type": "code",
        "colab": {}
      },
      "source": [
        "# Convierte a valores de tipo entero (int)\n",
        "convocados_peru_df['Num.'] = convocados_peru_df['Num.'].astype(int)\n",
        "convocados_peru_df['PJ'] = convocados_peru_df['PJ'].astype(int)\n",
        "convocados_peru_df['Goles'] = convocados_peru_df['Goles'].astype(int)"
      ],
      "execution_count": null,
      "outputs": []
    },
    {
      "cell_type": "code",
      "metadata": {
        "id": "ivhCbvPBc2Uq",
        "colab_type": "code",
        "colab": {}
      },
      "source": [
        "# Eliminando el texto 'años' y convirtiendo el valor atipo de dato entero (int)\n",
        "convocados_peru_df['Edad'] = convocados_peru_df['Edad'].str.strip(' años').astype(int)"
      ],
      "execution_count": null,
      "outputs": []
    },
    {
      "cell_type": "code",
      "metadata": {
        "id": "SZepHETb8gY_",
        "colab_type": "code",
        "colab": {}
      },
      "source": [
        "# Grabamos el archivo CSV dentro de Colab\n",
        "convocados_peru_df.to_csv('convocados_peru.csv', index=False)"
      ],
      "execution_count": null,
      "outputs": []
    },
    {
      "cell_type": "code",
      "metadata": {
        "id": "u6kv9_gB8vqp",
        "colab_type": "code",
        "colab": {
          "base_uri": "https://localhost:8080/",
          "height": 17
        },
        "outputId": "3fe7094d-2da2-43f0-aa05-85723b1f600e"
      },
      "source": [
        "# Descargamos el archivo en nuestra PC\n",
        "files.download('convocados_peru.csv')"
      ],
      "execution_count": null,
      "outputs": [
        {
          "output_type": "display_data",
          "data": {
            "application/javascript": [
              "\n",
              "    async function download(id, filename, size) {\n",
              "      if (!google.colab.kernel.accessAllowed) {\n",
              "        return;\n",
              "      }\n",
              "      const div = document.createElement('div');\n",
              "      const label = document.createElement('label');\n",
              "      label.textContent = `Downloading \"${filename}\": `;\n",
              "      div.appendChild(label);\n",
              "      const progress = document.createElement('progress');\n",
              "      progress.max = size;\n",
              "      div.appendChild(progress);\n",
              "      document.body.appendChild(div);\n",
              "\n",
              "      const buffers = [];\n",
              "      let downloaded = 0;\n",
              "\n",
              "      const channel = await google.colab.kernel.comms.open(id);\n",
              "      // Send a message to notify the kernel that we're ready.\n",
              "      channel.send({})\n",
              "\n",
              "      for await (const message of channel.messages) {\n",
              "        // Send a message to notify the kernel that we're ready.\n",
              "        channel.send({})\n",
              "        if (message.buffers) {\n",
              "          for (const buffer of message.buffers) {\n",
              "            buffers.push(buffer);\n",
              "            downloaded += buffer.byteLength;\n",
              "            progress.value = downloaded;\n",
              "          }\n",
              "        }\n",
              "      }\n",
              "      const blob = new Blob(buffers, {type: 'application/binary'});\n",
              "      const a = document.createElement('a');\n",
              "      a.href = window.URL.createObjectURL(blob);\n",
              "      a.download = filename;\n",
              "      div.appendChild(a);\n",
              "      a.click();\n",
              "      div.remove();\n",
              "    }\n",
              "  "
            ],
            "text/plain": [
              "<IPython.core.display.Javascript object>"
            ]
          },
          "metadata": {
            "tags": []
          }
        },
        {
          "output_type": "display_data",
          "data": {
            "application/javascript": [
              "download(\"download_47c25c67-2f7a-4a9c-b4c3-39868f19f814\", \"convocados_peru.csv\", 1684)"
            ],
            "text/plain": [
              "<IPython.core.display.Javascript object>"
            ]
          },
          "metadata": {
            "tags": []
          }
        }
      ]
    },
    {
      "cell_type": "code",
      "metadata": {
        "id": "_Ub2tK9ccH8H",
        "colab_type": "code",
        "colab": {}
      },
      "source": [
        "import matplotlib.pyplot as plt\n",
        "\n",
        "%matplotlib inline"
      ],
      "execution_count": null,
      "outputs": []
    },
    {
      "cell_type": "code",
      "metadata": {
        "id": "1jNSivSmcNjc",
        "colab_type": "code",
        "colab": {
          "base_uri": "https://localhost:8080/",
          "height": 282
        },
        "outputId": "49005804-07fc-4386-f089-b95d86d65a29"
      },
      "source": [
        "convocados_peru_df['PJ'].plot(kind='hist')"
      ],
      "execution_count": null,
      "outputs": [
        {
          "output_type": "execute_result",
          "data": {
            "text/plain": [
              "<matplotlib.axes._subplots.AxesSubplot at 0x7f539b9a08d0>"
            ]
          },
          "metadata": {
            "tags": []
          },
          "execution_count": 53
        },
        {
          "output_type": "display_data",
          "data": {
            "image/png": "[encoded data removed]",
            "text/plain": [
              "<Figure size 432x288 with 1 Axes>"
            ]
          },
          "metadata": {
            "tags": [],
            "needs_background": "light"
          }
        }
      ]
    },
    {
      "cell_type": "code",
      "metadata": {
        "id": "dElNXE9GdSaR",
        "colab_type": "code",
        "colab": {
          "base_uri": "https://localhost:8080/",
          "height": 282
        },
        "outputId": "a2c571c6-31f9-4b40-8750-9646f56f7ea4"
      },
      "source": [
        "convocados_peru_df['Goles'].hist()"
      ],
      "execution_count": null,
      "outputs": [
        {
          "output_type": "execute_result",
          "data": {
            "text/plain": [
              "<matplotlib.axes._subplots.AxesSubplot at 0x7f539b90fb38>"
            ]
          },
          "metadata": {
            "tags": []
          },
          "execution_count": 54
        },
        {
          "output_type": "display_data",
          "data": {
            "image/png": "[encoded data removed]",
            "text/plain": [
              "<Figure size 432x288 with 1 Axes>"
            ]
          },
          "metadata": {
            "tags": [],
            "needs_background": "light"
          }
        }
      ]
    },
    {
      "cell_type": "markdown",
      "metadata": {
        "id": "GhZn89pdtopO",
        "colab_type": "text"
      },
      "source": [
        "## 5. Pruebas de esquema de datos"
      ]
    },
    {
      "cell_type": "markdown",
      "metadata": {
        "colab_type": "text",
        "id": "_Mc_0bWT7Ioh"
      },
      "source": [
        "# Live Coding - Caso 2: ¡Elijamos nosotros!\n",
        "\n",
        "![Areas Hackathon UP](https://github.com/Claudio9701/WebScraping-HackathonUP-2020/blob/master/img/areas-hackathon.png?raw=1)"
      ]
    },
    {
      "cell_type": "markdown",
      "metadata": {
        "id": "7CH1GQqf-7nT",
        "colab_type": "text"
      },
      "source": [
        "## 1. Identificación de datos\n",
        "\n",
        "**Objetivo**: Obtener precios de productos en Supermercados (Wong)\n",
        "\n",
        "¡Ajá, puedo obtener datos desde su pagina web! Para este ejemplo veamos la sección \"Abarrotes\"."
      ]
    },
    {
      "cell_type": "markdown",
      "metadata": {
        "id": "xXtdjSMeqJ8i",
        "colab_type": "text"
      },
      "source": [
        "## 2. Recopilando la información necesaria\n",
        "\n",
        " - Revisemos el archivo robots.txt\n",
        " - **Inspeccionemos** la web"
      ]
    },
    {
      "cell_type": "markdown",
      "metadata": {
        "id": "3iu_VBYRrQwd",
        "colab_type": "text"
      },
      "source": [
        "## 3. Disenando el Web Scraper\n",
        "\n",
        "1. Identifiquemos la items objetivo: \"Productos dentro de la cuadricula de productos\"\n",
        "2. Seleccionar el conjunto de los items objetivo (ul) - Tag name, XPath u otro\n",
        "3. Definir nombres de columnas\n",
        "4. Extraer datos de cada item (li) - Iterar sobre los items (li)\n",
        "5. Guardar archivo en formato CSV (Comma Separated Values)"
      ]
    },
    {
      "cell_type": "code",
      "metadata": {
        "id": "l23Erd62rxtJ",
        "colab_type": "code",
        "colab": {}
      },
      "source": [
        "# Definamos la URL\n",
        "WONG_URL = \"https://www.wong.pe/abarrotes\"\n",
        "\n",
        "# Extraemos el codigo fuente (HTML)\n",
        "source = requests.get(WONG_URL).text\n",
        "soup = bs.BeautifulSoup(source,'lxml')"
      ],
      "execution_count": null,
      "outputs": []
    },
    {
      "cell_type": "code",
      "metadata": {
        "id": "0bvstE1ZrP0v",
        "colab_type": "code",
        "colab": {}
      },
      "source": [
        "# XPath: /html/body/div[25]/div/div[2]/div[5]/div[2]/div[2]/div[2]/div/ul/li[1]/div[1]\n",
        "# Relative XPATH: //*[@id=\"ResultItems_28705788\"]/div/ul/li[1]/div[1]"
      ],
      "execution_count": null,
      "outputs": []
    },
    {
      "cell_type": "code",
      "metadata": {
        "id": "lg31dS35r7QX",
        "colab_type": "code",
        "colab": {}
      },
      "source": [
        "product_lists = soup.find_all('ul')"
      ],
      "execution_count": null,
      "outputs": []
    },
    {
      "cell_type": "code",
      "metadata": {
        "id": "GN7-YjvEtF6q",
        "colab_type": "code",
        "colab": {
          "base_uri": "https://localhost:8080/",
          "height": 34
        },
        "outputId": "92426ee3-68ed-498e-fc74-d1763a69b77d"
      },
      "source": [
        "len(product_lists)"
      ],
      "execution_count": null,
      "outputs": [
        {
          "output_type": "execute_result",
          "data": {
            "text/plain": [
              "56"
            ]
          },
          "metadata": {
            "tags": []
          },
          "execution_count": 79
        }
      ]
    },
    {
      "cell_type": "code",
      "metadata": {
        "id": "xjvXxUkOsUAN",
        "colab_type": "code",
        "colab": {}
      },
      "source": [
        "product_items = product_lists[18].find_all('li')"
      ],
      "execution_count": null,
      "outputs": []
    },
    {
      "cell_type": "code",
      "metadata": {
        "id": "1OUUkqzjtNXA",
        "colab_type": "code",
        "colab": {
          "base_uri": "https://localhost:8080/",
          "height": 34
        },
        "outputId": "b1fd2eaf-e344-4935-acbf-41ebfcefe5ae"
      },
      "source": [
        "len(product_items)"
      ],
      "execution_count": null,
      "outputs": [
        {
          "output_type": "execute_result",
          "data": {
            "text/plain": [
              "73"
            ]
          },
          "metadata": {
            "tags": []
          },
          "execution_count": 81
        }
      ]
    },
    {
      "cell_type": "code",
      "metadata": {
        "id": "CDmq5ipztP64",
        "colab_type": "code",
        "colab": {
          "base_uri": "https://localhost:8080/",
          "height": 629
        },
        "outputId": "39f648dc-3d6c-46aa-a2a8-ddcbb9d3a1da"
      },
      "source": [
        "selected_div_attrs = ['data-name', 'data-price', 'data-brand', 'data-category']\n",
        "data = []\n",
        "for product_item in product_items:\n",
        "  try:\n",
        "    product_main_div = product_item.find('div')\n",
        "    product_data = [product_main_div[attr] for attr in selected_div_attrs]\n",
        "    print(product_data, end='\\n\\n')\n",
        "    data.append(product_data)\n",
        "  except:\n",
        "    pass"
      ],
      "execution_count": null,
      "outputs": [
        {
          "output_type": "stream",
          "text": [
            "['Galletas Vainilla Field Pack 6 Unid x 37 g', 'S/. 3.20', 'Field', 'https://www.wong.pe/abarrotes/galletas-snacks-y-golosinas/galletas']\n",
            "\n",
            "['Arroz Extra Costeño Bolsa 5 Kg', 'S/. 20.29', 'Costeño', 'https://www.wong.pe/abarrotes/arroz/arroz-extra-y-superior']\n",
            "\n",
            "['Aceite Vegetal Primor Premium Botella 1 L', 'S/. 7.49', 'Primor', 'https://www.wong.pe/abarrotes/aceites/aceites-vegetales']\n",
            "\n",
            "['Papas Artesanales Andinas Saladas Inka Chips Bolsa 142 g', 'S/. 6.20', 'Inka Chips', 'https://www.wong.pe/abarrotes/galletas-snacks-y-golosinas/piqueos']\n",
            "\n",
            "['Sal de Mesa Marina Emsal Bolsa 1 kg', 'S/. 2.15', 'Emsal', 'https://www.wong.pe/abarrotes/condimentos-vinagres-y-comida-instantanea/sal-sal-parrillera-y-sal-especial']\n",
            "\n",
            "['Galletas Oreo Nabisco Original Pack 6 Unid x 36 g', 'S/. 3.29', 'Nabisco', 'https://www.wong.pe/abarrotes/galletas-snacks-y-golosinas/galletas']\n",
            "\n",
            "['Galletas San Jorge Soda Pack 7 Unidades', 'S/. 2.89', 'San Jorge', 'https://www.wong.pe/abarrotes/galletas-snacks-y-golosinas/galletas']\n",
            "\n",
            "['Galletas Morochas Nestlé Pack 6 Unidades', 'S/. 4.30', 'Nestlé', 'https://www.wong.pe/abarrotes/galletas-snacks-y-golosinas/galletas']\n",
            "\n",
            "['Galletas Soda Field Pack 6 Unid x 34 g', 'S/. 2.30', 'Field', 'https://www.wong.pe/abarrotes/galletas-snacks-y-golosinas/galletas']\n",
            "\n",
            "['Spaguetti Don Vittorio Paquete 1 Kg', 'S/. 4.59', 'Don Vittorio', 'https://www.wong.pe/abarrotes/fideos-pastas-y-salsas/fideos-largos']\n",
            "\n",
            "['Lomos de Atún Campomar en Aceite Lata 170 gr', 'S/. 5.20', 'Campomar', 'https://www.wong.pe/abarrotes/alimentos-en-conserva/pescado-en-conserva']\n",
            "\n",
            "['Lenteja Bebé Tesoro Del Campo Bolsa 500 g', 'S/. 4.99', 'Tesoro Del Campo', 'https://www.wong.pe/abarrotes/menestras/lentejas-pallares-y-garbanzos']\n",
            "\n",
            "['Lenteja Costeño Bolsa 500 g', 'S/. 5.39', 'Costeño', 'https://www.wong.pe/abarrotes/menestras/lentejas-pallares-y-garbanzos']\n",
            "\n",
            "['Arroz Extra Valle Norte Mejorado Bolsa 5 Kg', 'S/. 22.49', 'Valle Norte', 'https://www.wong.pe/abarrotes/arroz/arroz-extra-y-superior']\n",
            "\n",
            "['Arroz Extra Costeño Bolsa 750 g', 'S/. 3.79', 'Costeño', 'https://www.wong.pe/abarrotes/arroz/arroz-extra-y-superior']\n",
            "\n",
            "['Filete De Atún En Agua y Sal Florida Lata 150 g', 'S/. 6.20', 'Florida', 'https://www.wong.pe/abarrotes/alimentos-en-conserva/pescado-en-conserva']\n",
            "\n",
            "['Gloria Leche Condensada Lata 393 g', 'S/. 5.00', 'Gloria', 'https://www.wong.pe/abarrotes/reposteria/leches-condensadas']\n",
            "\n",
            "['Crema de Leche Piamonte Bolsa 236 ml', 'S/. 4.90', 'Piamonte', 'https://www.wong.pe/abarrotes/reposteria/ingredientes-y-complementos-de-decoracion']\n",
            "\n"
          ],
          "name": "stdout"
        }
      ]
    },
    {
      "cell_type": "code",
      "metadata": {
        "id": "mAppzSuGuyEr",
        "colab_type": "code",
        "colab": {}
      },
      "source": [
        "# Creamos un DataFrame / Tabla de datos\n",
        "productos_wong_df = pd.DataFrame(data, columns=selected_div_attrs)"
      ],
      "execution_count": null,
      "outputs": []
    },
    {
      "cell_type": "code",
      "metadata": {
        "id": "5DxevRleu62X",
        "colab_type": "code",
        "colab": {
          "base_uri": "https://localhost:8080/",
          "height": 607
        },
        "outputId": "037463f0-2bcb-46f7-b99c-e0c3a056717a"
      },
      "source": [
        "productos_wong_df"
      ],
      "execution_count": null,
      "outputs": [
        {
          "output_type": "execute_result",
          "data": {
            "text/html": [
              "<div>\n",
              "<style scoped>\n",
              "    .dataframe tbody tr th:only-of-type {\n",
              "        vertical-align: middle;\n",
              "    }\n",
              "\n",
              "    .dataframe tbody tr th {\n",
              "        vertical-align: top;\n",
              "    }\n",
              "\n",
              "    .dataframe thead th {\n",
              "        text-align: right;\n",
              "    }\n",
              "</style>\n",
              "<table border=\"1\" class=\"dataframe\">\n",
              "  <thead>\n",
              "    <tr style=\"text-align: right;\">\n",
              "      <th></th>\n",
              "      <th>data-name</th>\n",
              "      <th>data-price</th>\n",
              "      <th>data-brand</th>\n",
              "      <th>data-category</th>\n",
              "    </tr>\n",
              "  </thead>\n",
              "  <tbody>\n",
              "    <tr>\n",
              "      <th>0</th>\n",
              "      <td>Galletas Vainilla Field Pack 6 Unid x 37 g</td>\n",
              "      <td>S/. 3.20</td>\n",
              "      <td>Field</td>\n",
              "      <td>https://www.wong.pe/abarrotes/galletas-snacks-...</td>\n",
              "    </tr>\n",
              "    <tr>\n",
              "      <th>1</th>\n",
              "      <td>Arroz Extra Costeño Bolsa 5 Kg</td>\n",
              "      <td>S/. 20.29</td>\n",
              "      <td>Costeño</td>\n",
              "      <td>https://www.wong.pe/abarrotes/arroz/arroz-extr...</td>\n",
              "    </tr>\n",
              "    <tr>\n",
              "      <th>2</th>\n",
              "      <td>Aceite Vegetal Primor Premium Botella 1 L</td>\n",
              "      <td>S/. 7.49</td>\n",
              "      <td>Primor</td>\n",
              "      <td>https://www.wong.pe/abarrotes/aceites/aceites-...</td>\n",
              "    </tr>\n",
              "    <tr>\n",
              "      <th>3</th>\n",
              "      <td>Papas Artesanales Andinas Saladas Inka Chips B...</td>\n",
              "      <td>S/. 6.20</td>\n",
              "      <td>Inka Chips</td>\n",
              "      <td>https://www.wong.pe/abarrotes/galletas-snacks-...</td>\n",
              "    </tr>\n",
              "    <tr>\n",
              "      <th>4</th>\n",
              "      <td>Sal de Mesa Marina Emsal Bolsa 1 kg</td>\n",
              "      <td>S/. 2.15</td>\n",
              "      <td>Emsal</td>\n",
              "      <td>https://www.wong.pe/abarrotes/condimentos-vina...</td>\n",
              "    </tr>\n",
              "    <tr>\n",
              "      <th>5</th>\n",
              "      <td>Galletas Oreo Nabisco Original Pack 6 Unid x 36 g</td>\n",
              "      <td>S/. 3.29</td>\n",
              "      <td>Nabisco</td>\n",
              "      <td>https://www.wong.pe/abarrotes/galletas-snacks-...</td>\n",
              "    </tr>\n",
              "    <tr>\n",
              "      <th>6</th>\n",
              "      <td>Galletas San Jorge Soda Pack 7 Unidades</td>\n",
              "      <td>S/. 2.89</td>\n",
              "      <td>San Jorge</td>\n",
              "      <td>https://www.wong.pe/abarrotes/galletas-snacks-...</td>\n",
              "    </tr>\n",
              "    <tr>\n",
              "      <th>7</th>\n",
              "      <td>Galletas Morochas Nestlé Pack 6 Unidades</td>\n",
              "      <td>S/. 4.30</td>\n",
              "      <td>Nestlé</td>\n",
              "      <td>https://www.wong.pe/abarrotes/galletas-snacks-...</td>\n",
              "    </tr>\n",
              "    <tr>\n",
              "      <th>8</th>\n",
              "      <td>Galletas Soda Field Pack 6 Unid x 34 g</td>\n",
              "      <td>S/. 2.30</td>\n",
              "      <td>Field</td>\n",
              "      <td>https://www.wong.pe/abarrotes/galletas-snacks-...</td>\n",
              "    </tr>\n",
              "    <tr>\n",
              "      <th>9</th>\n",
              "      <td>Spaguetti Don Vittorio Paquete 1 Kg</td>\n",
              "      <td>S/. 4.59</td>\n",
              "      <td>Don Vittorio</td>\n",
              "      <td>https://www.wong.pe/abarrotes/fideos-pastas-y-...</td>\n",
              "    </tr>\n",
              "    <tr>\n",
              "      <th>10</th>\n",
              "      <td>Lomos de Atún Campomar en Aceite Lata 170 gr</td>\n",
              "      <td>S/. 5.20</td>\n",
              "      <td>Campomar</td>\n",
              "      <td>https://www.wong.pe/abarrotes/alimentos-en-con...</td>\n",
              "    </tr>\n",
              "    <tr>\n",
              "      <th>11</th>\n",
              "      <td>Lenteja Bebé Tesoro Del Campo Bolsa 500 g</td>\n",
              "      <td>S/. 4.99</td>\n",
              "      <td>Tesoro Del Campo</td>\n",
              "      <td>https://www.wong.pe/abarrotes/menestras/lentej...</td>\n",
              "    </tr>\n",
              "    <tr>\n",
              "      <th>12</th>\n",
              "      <td>Lenteja Costeño Bolsa 500 g</td>\n",
              "      <td>S/. 5.39</td>\n",
              "      <td>Costeño</td>\n",
              "      <td>https://www.wong.pe/abarrotes/menestras/lentej...</td>\n",
              "    </tr>\n",
              "    <tr>\n",
              "      <th>13</th>\n",
              "      <td>Arroz Extra Valle Norte Mejorado Bolsa 5 Kg</td>\n",
              "      <td>S/. 22.49</td>\n",
              "      <td>Valle Norte</td>\n",
              "      <td>https://www.wong.pe/abarrotes/arroz/arroz-extr...</td>\n",
              "    </tr>\n",
              "    <tr>\n",
              "      <th>14</th>\n",
              "      <td>Arroz Extra Costeño Bolsa 750 g</td>\n",
              "      <td>S/. 3.79</td>\n",
              "      <td>Costeño</td>\n",
              "      <td>https://www.wong.pe/abarrotes/arroz/arroz-extr...</td>\n",
              "    </tr>\n",
              "    <tr>\n",
              "      <th>15</th>\n",
              "      <td>Filete De Atún En Agua y Sal Florida Lata 150 g</td>\n",
              "      <td>S/. 6.20</td>\n",
              "      <td>Florida</td>\n",
              "      <td>https://www.wong.pe/abarrotes/alimentos-en-con...</td>\n",
              "    </tr>\n",
              "    <tr>\n",
              "      <th>16</th>\n",
              "      <td>Gloria Leche Condensada Lata 393 g</td>\n",
              "      <td>S/. 5.00</td>\n",
              "      <td>Gloria</td>\n",
              "      <td>https://www.wong.pe/abarrotes/reposteria/leche...</td>\n",
              "    </tr>\n",
              "    <tr>\n",
              "      <th>17</th>\n",
              "      <td>Crema de Leche Piamonte Bolsa 236 ml</td>\n",
              "      <td>S/. 4.90</td>\n",
              "      <td>Piamonte</td>\n",
              "      <td>https://www.wong.pe/abarrotes/reposteria/ingre...</td>\n",
              "    </tr>\n",
              "  </tbody>\n",
              "</table>\n",
              "</div>"
            ],
            "text/plain": [
              "                                            data-name  ...                                      data-category\n",
              "0          Galletas Vainilla Field Pack 6 Unid x 37 g  ...  https://www.wong.pe/abarrotes/galletas-snacks-...\n",
              "1                      Arroz Extra Costeño Bolsa 5 Kg  ...  https://www.wong.pe/abarrotes/arroz/arroz-extr...\n",
              "2           Aceite Vegetal Primor Premium Botella 1 L  ...  https://www.wong.pe/abarrotes/aceites/aceites-...\n",
              "3   Papas Artesanales Andinas Saladas Inka Chips B...  ...  https://www.wong.pe/abarrotes/galletas-snacks-...\n",
              "4                 Sal de Mesa Marina Emsal Bolsa 1 kg  ...  https://www.wong.pe/abarrotes/condimentos-vina...\n",
              "5   Galletas Oreo Nabisco Original Pack 6 Unid x 36 g  ...  https://www.wong.pe/abarrotes/galletas-snacks-...\n",
              "6             Galletas San Jorge Soda Pack 7 Unidades  ...  https://www.wong.pe/abarrotes/galletas-snacks-...\n",
              "7            Galletas Morochas Nestlé Pack 6 Unidades  ...  https://www.wong.pe/abarrotes/galletas-snacks-...\n",
              "8              Galletas Soda Field Pack 6 Unid x 34 g  ...  https://www.wong.pe/abarrotes/galletas-snacks-...\n",
              "9                 Spaguetti Don Vittorio Paquete 1 Kg  ...  https://www.wong.pe/abarrotes/fideos-pastas-y-...\n",
              "10       Lomos de Atún Campomar en Aceite Lata 170 gr  ...  https://www.wong.pe/abarrotes/alimentos-en-con...\n",
              "11          Lenteja Bebé Tesoro Del Campo Bolsa 500 g  ...  https://www.wong.pe/abarrotes/menestras/lentej...\n",
              "12                        Lenteja Costeño Bolsa 500 g  ...  https://www.wong.pe/abarrotes/menestras/lentej...\n",
              "13        Arroz Extra Valle Norte Mejorado Bolsa 5 Kg  ...  https://www.wong.pe/abarrotes/arroz/arroz-extr...\n",
              "14                    Arroz Extra Costeño Bolsa 750 g  ...  https://www.wong.pe/abarrotes/arroz/arroz-extr...\n",
              "15    Filete De Atún En Agua y Sal Florida Lata 150 g  ...  https://www.wong.pe/abarrotes/alimentos-en-con...\n",
              "16                 Gloria Leche Condensada Lata 393 g  ...  https://www.wong.pe/abarrotes/reposteria/leche...\n",
              "17               Crema de Leche Piamonte Bolsa 236 ml  ...  https://www.wong.pe/abarrotes/reposteria/ingre...\n",
              "\n",
              "[18 rows x 4 columns]"
            ]
          },
          "metadata": {
            "tags": []
          },
          "execution_count": 89
        }
      ]
    },
    {
      "cell_type": "code",
      "metadata": {
        "id": "G7hntcL5vAxl",
        "colab_type": "code",
        "colab": {}
      },
      "source": [
        "# Grabamos el archivo CSV dentro de Colab\n",
        "productos_wong_df.to_csv('productos_wong.csv', index=False)"
      ],
      "execution_count": null,
      "outputs": []
    },
    {
      "cell_type": "code",
      "metadata": {
        "id": "nXDJlhuLvDAI",
        "colab_type": "code",
        "colab": {
          "base_uri": "https://localhost:8080/",
          "height": 17
        },
        "outputId": "f046a763-a1e2-4a4b-ab69-0fa7f12b31f3"
      },
      "source": [
        "# Descargamos el archivo en nuestra PC\n",
        "files.download('productos_wong.csv')"
      ],
      "execution_count": null,
      "outputs": [
        {
          "output_type": "display_data",
          "data": {
            "application/javascript": [
              "\n",
              "    async function download(id, filename, size) {\n",
              "      if (!google.colab.kernel.accessAllowed) {\n",
              "        return;\n",
              "      }\n",
              "      const div = document.createElement('div');\n",
              "      const label = document.createElement('label');\n",
              "      label.textContent = `Downloading \"${filename}\": `;\n",
              "      div.appendChild(label);\n",
              "      const progress = document.createElement('progress');\n",
              "      progress.max = size;\n",
              "      div.appendChild(progress);\n",
              "      document.body.appendChild(div);\n",
              "\n",
              "      const buffers = [];\n",
              "      let downloaded = 0;\n",
              "\n",
              "      const channel = await google.colab.kernel.comms.open(id);\n",
              "      // Send a message to notify the kernel that we're ready.\n",
              "      channel.send({})\n",
              "\n",
              "      for await (const message of channel.messages) {\n",
              "        // Send a message to notify the kernel that we're ready.\n",
              "        channel.send({})\n",
              "        if (message.buffers) {\n",
              "          for (const buffer of message.buffers) {\n",
              "            buffers.push(buffer);\n",
              "            downloaded += buffer.byteLength;\n",
              "            progress.value = downloaded;\n",
              "          }\n",
              "        }\n",
              "      }\n",
              "      const blob = new Blob(buffers, {type: 'application/binary'});\n",
              "      const a = document.createElement('a');\n",
              "      a.href = window.URL.createObjectURL(blob);\n",
              "      a.download = filename;\n",
              "      div.appendChild(a);\n",
              "      a.click();\n",
              "      div.remove();\n",
              "    }\n",
              "  "
            ],
            "text/plain": [
              "<IPython.core.display.Javascript object>"
            ]
          },
          "metadata": {
            "tags": []
          }
        },
        {
          "output_type": "display_data",
          "data": {
            "application/javascript": [
              "download(\"download_ee6f2916-f0a3-4f4b-82cd-d6d364a772aa\", \"productos_wong.csv\", 2341)"
            ],
            "text/plain": [
              "<IPython.core.display.Javascript object>"
            ]
          },
          "metadata": {
            "tags": []
          }
        }
      ]
    },
    {
      "cell_type": "markdown",
      "metadata": {
        "id": "EMPPocQ2-28o",
        "colab_type": "text"
      },
      "source": [
        "### Recursos Adicionales de Beautiful Soup 4\n",
        "\n",
        "- [Web scraping and parsing with Beautiful Soup 4](https://pythonprogramming.net/introduction-scraping-parsing-beautiful-soup-tutorial/)\n",
        "- [Beautiful Soup Documentation¶](https://www.crummy.com/software/BeautifulSoup/bs4/doc/)"
      ]
    },
    {
      "cell_type": "code",
      "metadata": {
        "id": "i1RcfZgkmqr6",
        "colab_type": "code",
        "colab": {}
      },
      "source": [
        ""
      ],
      "execution_count": null,
      "outputs": []
    }
  ]
}